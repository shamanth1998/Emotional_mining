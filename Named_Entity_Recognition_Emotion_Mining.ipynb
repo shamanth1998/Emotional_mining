{
  "cells": [
    {
      "cell_type": "markdown",
      "metadata": {
        "id": "view-in-github",
        "colab_type": "text"
      },
      "source": [
        "<a href=\"https://colab.research.google.com/github/shamanth1998/Emotional_mining/blob/main/Named_Entity_Recognition_Emotion_Mining.ipynb\" target=\"_parent\"><img src=\"https://colab.research.google.com/assets/colab-badge.svg\" alt=\"Open In Colab\"/></a>"
      ]
    },
    {
      "cell_type": "markdown",
      "metadata": {
        "id": "MazNZKySKHf9"
      },
      "source": [
        "#### Named Entity Recognition"
      ]
    },
    {
      "cell_type": "code",
      "execution_count": null,
      "metadata": {
        "id": "CWQRVhzKKHgL",
        "outputId": "398158db-cbde-445e-9e03-24a9e37bf386"
      },
      "outputs": [
        {
          "name": "stdout",
          "output_type": "stream",
          "text": [
            "Requirement already satisfied: spacy==2.3.0 in c:\\python\\lib\\site-packages (2.3.0)\n",
            "Requirement already satisfied: murmurhash<1.1.0,>=0.28.0 in c:\\python\\lib\\site-packages (from spacy==2.3.0) (1.0.6)\n",
            "Requirement already satisfied: preshed<3.1.0,>=3.0.2 in c:\\python\\lib\\site-packages (from spacy==2.3.0) (3.0.6)\n",
            "Requirement already satisfied: srsly<1.1.0,>=1.0.2 in c:\\python\\lib\\site-packages (from spacy==2.3.0) (1.0.5)\n",
            "Requirement already satisfied: tqdm<5.0.0,>=4.38.0 in c:\\python\\lib\\site-packages (from spacy==2.3.0) (4.59.0)\n",
            "Requirement already satisfied: cymem<2.1.0,>=2.0.2 in c:\\python\\lib\\site-packages (from spacy==2.3.0) (2.0.6)\n",
            "Requirement already satisfied: requests<3.0.0,>=2.13.0 in c:\\python\\lib\\site-packages (from spacy==2.3.0) (2.25.1)\n",
            "Requirement already satisfied: setuptools in c:\\python\\lib\\site-packages (from spacy==2.3.0) (52.0.0.post20210125)\n",
            "Requirement already satisfied: plac<1.2.0,>=0.9.6 in c:\\python\\lib\\site-packages (from spacy==2.3.0) (1.1.3)\n",
            "Requirement already satisfied: blis<0.5.0,>=0.4.0 in c:\\python\\lib\\site-packages (from spacy==2.3.0) (0.4.1)\n",
            "Requirement already satisfied: thinc==7.4.1 in c:\\python\\lib\\site-packages (from spacy==2.3.0) (7.4.1)\n",
            "Requirement already satisfied: wasabi<1.1.0,>=0.4.0 in c:\\python\\lib\\site-packages (from spacy==2.3.0) (0.9.0)\n",
            "Requirement already satisfied: catalogue<1.1.0,>=0.0.7 in c:\\python\\lib\\site-packages (from spacy==2.3.0) (1.0.0)\n",
            "Requirement already satisfied: numpy>=1.15.0 in c:\\python\\lib\\site-packages (from spacy==2.3.0) (1.20.1)\n",
            "Requirement already satisfied: idna<3,>=2.5 in c:\\python\\lib\\site-packages (from requests<3.0.0,>=2.13.0->spacy==2.3.0) (2.10)\n",
            "Requirement already satisfied: certifi>=2017.4.17 in c:\\python\\lib\\site-packages (from requests<3.0.0,>=2.13.0->spacy==2.3.0) (2020.12.5)\n",
            "Requirement already satisfied: chardet<5,>=3.0.2 in c:\\python\\lib\\site-packages (from requests<3.0.0,>=2.13.0->spacy==2.3.0) (4.0.0)\n",
            "Requirement already satisfied: urllib3<1.27,>=1.21.1 in c:\\python\\lib\\site-packages (from requests<3.0.0,>=2.13.0->spacy==2.3.0) (1.26.4)\n",
            "Note: you may need to restart the kernel to use updated packages.\n"
          ]
        }
      ],
      "source": [
        "pip install spacy==2.3.0"
      ]
    },
    {
      "cell_type": "code",
      "execution_count": null,
      "metadata": {
        "id": "oNM2DTcMKHgO",
        "outputId": "7b2606ac-22ab-45be-ea49-619632dad8ce"
      },
      "outputs": [
        {
          "name": "stdout",
          "output_type": "stream",
          "text": [
            "Collecting wordcloud\n",
            "  Downloading wordcloud-1.8.1-cp38-cp38-win_amd64.whl (155 kB)\n",
            "Requirement already satisfied: pillow in c:\\python\\lib\\site-packages (from wordcloud) (8.2.0)\n",
            "Requirement already satisfied: matplotlib in c:\\python\\lib\\site-packages (from wordcloud) (3.3.4)\n",
            "Requirement already satisfied: numpy>=1.6.1 in c:\\python\\lib\\site-packages (from wordcloud) (1.20.1)\n",
            "Requirement already satisfied: kiwisolver>=1.0.1 in c:\\python\\lib\\site-packages (from matplotlib->wordcloud) (1.3.1)\n",
            "Requirement already satisfied: cycler>=0.10 in c:\\python\\lib\\site-packages (from matplotlib->wordcloud) (0.10.0)\n",
            "Requirement already satisfied: python-dateutil>=2.1 in c:\\python\\lib\\site-packages (from matplotlib->wordcloud) (2.8.1)\n",
            "Requirement already satisfied: pyparsing!=2.0.4,!=2.1.2,!=2.1.6,>=2.0.3 in c:\\python\\lib\\site-packages (from matplotlib->wordcloud) (2.4.7)\n",
            "Requirement already satisfied: six in c:\\python\\lib\\site-packages (from cycler>=0.10->matplotlib->wordcloud) (1.15.0)\n",
            "Installing collected packages: wordcloud\n",
            "Successfully installed wordcloud-1.8.1\n",
            "Note: you may need to restart the kernel to use updated packages.\n"
          ]
        }
      ],
      "source": [
        "pip install wordcloud "
      ]
    },
    {
      "cell_type": "code",
      "execution_count": null,
      "metadata": {
        "id": "cXuMaucFKHgQ"
      },
      "outputs": [],
      "source": [
        "import spacy"
      ]
    },
    {
      "cell_type": "code",
      "execution_count": null,
      "metadata": {
        "ExecuteTime": {
          "end_time": "2021-10-10T03:46:09.993766Z",
          "start_time": "2021-10-10T03:46:09.974662Z"
        },
        "scrolled": true,
        "id": "582JKiP1KHgR",
        "outputId": "13cf04d8-407d-4dd8-c5b2-5f9159eac94a"
      },
      "outputs": [
        {
          "data": {
            "text/plain": [
              "'2.3.0'"
            ]
          },
          "execution_count": 34,
          "metadata": {},
          "output_type": "execute_result"
        }
      ],
      "source": [
        "spacy.__version__"
      ]
    },
    {
      "cell_type": "code",
      "execution_count": null,
      "metadata": {
        "ExecuteTime": {
          "end_time": "2021-10-09T07:38:41.648853Z",
          "start_time": "2021-10-09T07:38:40.212046Z"
        },
        "id": "jPBla50zKHgT",
        "outputId": "90fc1909-92a8-43d0-8335-f3b60f5ddb18"
      },
      "outputs": [
        {
          "name": "stdout",
          "output_type": "stream",
          "text": [
            "\n",
            "\u001b[2K[+] Loaded compatibility table\n",
            "\u001b[1m\n",
            "====================== Installed models (spaCy v2.3.0) ======================\u001b[0m\n",
            "[i] spaCy installation: C:\\python\\lib\\site-packages\\spacy\n",
            "\n",
            "TYPE      NAME             MODEL            VERSION      \n",
            "package   en-core-web-sm   en_core_web_sm   2.3.0     [+]\n",
            "\n"
          ]
        }
      ],
      "source": [
        "!python -m spacy validate"
      ]
    },
    {
      "cell_type": "code",
      "execution_count": null,
      "metadata": {
        "ExecuteTime": {
          "end_time": "2021-11-07T09:21:00.816339Z",
          "start_time": "2021-11-07T09:20:56.201162Z"
        },
        "id": "4OT85dseKHgU",
        "outputId": "eba6697a-1502-499e-f977-877d72581f4d"
      },
      "outputs": [
        {
          "name": "stdout",
          "output_type": "stream",
          "text": [
            "Requirement already satisfied: wordcloud in /Users/anaconda3/lib/python3.7/site-packages (1.7.0)\n",
            "Requirement already satisfied: numpy>=1.6.1 in /Users/anaconda3/lib/python3.7/site-packages (from wordcloud) (1.19.5)\n",
            "Requirement already satisfied: pillow in /Users/anaconda3/lib/python3.7/site-packages (from wordcloud) (6.2.0)\n",
            "Requirement already satisfied: matplotlib in /Users/anaconda3/lib/python3.7/site-packages (from wordcloud) (3.3.4)\n",
            "Requirement already satisfied: cycler>=0.10 in /Users/anaconda3/lib/python3.7/site-packages (from matplotlib->wordcloud) (0.10.0)\n",
            "Requirement already satisfied: python-dateutil>=2.1 in /Users/anaconda3/lib/python3.7/site-packages (from matplotlib->wordcloud) (2.8.0)\n",
            "Requirement already satisfied: pyparsing!=2.0.4,!=2.1.2,!=2.1.6,>=2.0.3 in /Users/anaconda3/lib/python3.7/site-packages (from matplotlib->wordcloud) (2.4.2)\n",
            "Requirement already satisfied: kiwisolver>=1.0.1 in /Users/anaconda3/lib/python3.7/site-packages (from matplotlib->wordcloud) (1.1.0)\n",
            "Requirement already satisfied: six in /Users/anaconda3/lib/python3.7/site-packages (from cycler>=0.10->matplotlib->wordcloud) (1.12.0)\n",
            "Requirement already satisfied: setuptools in /Users/anaconda3/lib/python3.7/site-packages (from kiwisolver>=1.0.1->matplotlib->wordcloud) (54.1.2)\n",
            "\u001b[33mWARNING: You are using pip version 21.2.4; however, version 21.3.1 is available.\n",
            "You should consider upgrading via the '/Users/anaconda3/bin/python -m pip install --upgrade pip' command.\u001b[0m\n",
            "Note: you may need to restart the kernel to use updated packages.\n"
          ]
        }
      ],
      "source": [
        "pip install wordcloud"
      ]
    },
    {
      "cell_type": "code",
      "execution_count": null,
      "metadata": {
        "id": "V-kcX3OBKHgX"
      },
      "outputs": [],
      "source": [
        "#pip install -U preshed"
      ]
    },
    {
      "cell_type": "code",
      "execution_count": null,
      "metadata": {
        "ExecuteTime": {
          "end_time": "2021-10-09T07:37:42.341316Z",
          "start_time": "2021-10-09T07:37:29.006604Z"
        },
        "scrolled": true,
        "id": "vvi9OK0FKHgZ",
        "outputId": "46f84c7c-3b3d-4c13-f936-da1b6d2bd0d7"
      },
      "outputs": [
        {
          "name": "stdout",
          "output_type": "stream",
          "text": [
            "Collecting en_core_web_sm==2.3.0\n",
            "  Downloading https://github.com/explosion/spacy-models/releases/download/en_core_web_sm-2.3.0/en_core_web_sm-2.3.0.tar.gz (12.0 MB)\n",
            "Requirement already satisfied: spacy<2.4.0,>=2.3.0 in c:\\python\\lib\\site-packages (from en_core_web_sm==2.3.0) (2.3.0)\n",
            "Requirement already satisfied: requests<3.0.0,>=2.13.0 in c:\\python\\lib\\site-packages (from spacy<2.4.0,>=2.3.0->en_core_web_sm==2.3.0) (2.25.1)\n",
            "Requirement already satisfied: blis<0.5.0,>=0.4.0 in c:\\python\\lib\\site-packages (from spacy<2.4.0,>=2.3.0->en_core_web_sm==2.3.0) (0.4.1)\n",
            "Requirement already satisfied: murmurhash<1.1.0,>=0.28.0 in c:\\python\\lib\\site-packages (from spacy<2.4.0,>=2.3.0->en_core_web_sm==2.3.0) (1.0.6)\n",
            "Requirement already satisfied: wasabi<1.1.0,>=0.4.0 in c:\\python\\lib\\site-packages (from spacy<2.4.0,>=2.3.0->en_core_web_sm==2.3.0) (0.9.0)\n",
            "Requirement already satisfied: srsly<1.1.0,>=1.0.2 in c:\\python\\lib\\site-packages (from spacy<2.4.0,>=2.3.0->en_core_web_sm==2.3.0) (1.0.5)\n",
            "Requirement already satisfied: plac<1.2.0,>=0.9.6 in c:\\python\\lib\\site-packages (from spacy<2.4.0,>=2.3.0->en_core_web_sm==2.3.0) (1.1.3)\n",
            "Requirement already satisfied: preshed<3.1.0,>=3.0.2 in c:\\python\\lib\\site-packages (from spacy<2.4.0,>=2.3.0->en_core_web_sm==2.3.0) (3.0.6)\n",
            "Requirement already satisfied: numpy>=1.15.0 in c:\\python\\lib\\site-packages (from spacy<2.4.0,>=2.3.0->en_core_web_sm==2.3.0) (1.20.1)\n",
            "Requirement already satisfied: catalogue<1.1.0,>=0.0.7 in c:\\python\\lib\\site-packages (from spacy<2.4.0,>=2.3.0->en_core_web_sm==2.3.0) (1.0.0)\n",
            "Requirement already satisfied: cymem<2.1.0,>=2.0.2 in c:\\python\\lib\\site-packages (from spacy<2.4.0,>=2.3.0->en_core_web_sm==2.3.0) (2.0.6)\n",
            "Requirement already satisfied: thinc==7.4.1 in c:\\python\\lib\\site-packages (from spacy<2.4.0,>=2.3.0->en_core_web_sm==2.3.0) (7.4.1)\n",
            "Requirement already satisfied: setuptools in c:\\python\\lib\\site-packages (from spacy<2.4.0,>=2.3.0->en_core_web_sm==2.3.0) (52.0.0.post20210125)\n",
            "Requirement already satisfied: tqdm<5.0.0,>=4.38.0 in c:\\python\\lib\\site-packages (from spacy<2.4.0,>=2.3.0->en_core_web_sm==2.3.0) (4.59.0)\n",
            "Requirement already satisfied: chardet<5,>=3.0.2 in c:\\python\\lib\\site-packages (from requests<3.0.0,>=2.13.0->spacy<2.4.0,>=2.3.0->en_core_web_sm==2.3.0) (4.0.0)\n",
            "Requirement already satisfied: idna<3,>=2.5 in c:\\python\\lib\\site-packages (from requests<3.0.0,>=2.13.0->spacy<2.4.0,>=2.3.0->en_core_web_sm==2.3.0) (2.10)\n",
            "Requirement already satisfied: urllib3<1.27,>=1.21.1 in c:\\python\\lib\\site-packages (from requests<3.0.0,>=2.13.0->spacy<2.4.0,>=2.3.0->en_core_web_sm==2.3.0) (1.26.4)\n",
            "Requirement already satisfied: certifi>=2017.4.17 in c:\\python\\lib\\site-packages (from requests<3.0.0,>=2.13.0->spacy<2.4.0,>=2.3.0->en_core_web_sm==2.3.0) (2020.12.5)\n",
            "[+] Download and installation successful\n",
            "You can now load the model via spacy.load('en_core_web_sm')\n"
          ]
        }
      ],
      "source": [
        "!python -m spacy download en_core_web_sm"
      ]
    },
    {
      "cell_type": "code",
      "execution_count": null,
      "metadata": {
        "ExecuteTime": {
          "end_time": "2021-10-09T07:38:26.837097Z",
          "start_time": "2021-10-09T07:37:47.849356Z"
        },
        "scrolled": true,
        "id": "vH2G6FQgKHgb"
      },
      "outputs": [],
      "source": [
        "!python -m spacy download en_core_web_md"
      ]
    },
    {
      "cell_type": "markdown",
      "metadata": {
        "id": "i7LJ34bWKHgc"
      },
      "source": [
        "# restart kernel "
      ]
    },
    {
      "cell_type": "markdown",
      "metadata": {
        "id": "T29WgsRYKHge"
      },
      "source": [
        "# start"
      ]
    },
    {
      "cell_type": "code",
      "execution_count": null,
      "metadata": {
        "ExecuteTime": {
          "end_time": "2021-11-07T09:30:38.230831Z",
          "start_time": "2021-11-07T09:30:35.444635Z"
        },
        "scrolled": true,
        "id": "WYpU2R7zKHgg"
      },
      "outputs": [],
      "source": [
        "import numpy as np # linear algebra\n",
        "import pandas as pd # data processing, CSV file I/O (e.g. pd.read_csv)\n",
        "import string # special operations on strings\n",
        "import spacy # language models\n",
        "\n",
        "from matplotlib.pyplot import imread\n",
        "from matplotlib import pyplot as plt\n",
        "from wordcloud import WordCloud\n",
        "%matplotlib inline"
      ]
    },
    {
      "cell_type": "code",
      "execution_count": null,
      "metadata": {
        "ExecuteTime": {
          "end_time": "2021-11-07T09:33:57.095012Z",
          "start_time": "2021-11-07T09:33:57.084776Z"
        },
        "id": "odok-RR7KHgh",
        "outputId": "382f9e70-ba99-4058-a75c-cb7abcd631b2"
      },
      "outputs": [
        {
          "name": "stderr",
          "output_type": "stream",
          "text": [
            "b'Skipping line 6: expected 1 fields, saw 14\\n'\n"
          ]
        }
      ],
      "source": [
        "import pandas\n",
        "book=pd.read_csv(\"apple.txt\",error_bad_lines=False)"
      ]
    },
    {
      "cell_type": "code",
      "execution_count": null,
      "metadata": {
        "ExecuteTime": {
          "end_time": "2021-11-07T09:33:58.008491Z",
          "start_time": "2021-11-07T09:33:58.001994Z"
        },
        "id": "dtRooKsEKHgi",
        "outputId": "2eacffa7-e5c7-488a-9630-854183e8f28a"
      },
      "outputs": [
        {
          "data": {
            "text/plain": [
              "'furhufi.'"
            ]
          },
          "execution_count": 9,
          "metadata": {},
          "output_type": "execute_result"
        }
      ],
      "source": [
        "\"    furhufi.    \".strip()"
      ]
    },
    {
      "cell_type": "code",
      "execution_count": null,
      "metadata": {
        "ExecuteTime": {
          "end_time": "2021-11-07T09:33:58.620985Z",
          "start_time": "2021-11-07T09:33:58.611722Z"
        },
        "scrolled": false,
        "id": "Gcurfy21KHgj",
        "outputId": "11a8d9dc-f51c-446f-bc3a-6710185f5239"
      },
      "outputs": [
        {
          "data": {
            "text/plain": [
              "\"It's amazing..... battery last around 10 -12 hrs.....best laptop for students and coders\""
            ]
          },
          "execution_count": 4,
          "metadata": {},
          "output_type": "execute_result"
        }
      ],
      "source": [
        "book = [x.strip() for x in book.x] # remove both the leading and the trailing characters\n",
        "book = [x for x in book if x] # removes empty strings, because they are considered in Python as False\n",
        "book[0]"
      ]
    },
    {
      "cell_type": "code",
      "execution_count": null,
      "metadata": {
        "ExecuteTime": {
          "end_time": "2021-11-07T09:36:13.844551Z",
          "start_time": "2021-11-07T09:36:12.923936Z"
        },
        "id": "txh2Hrs1KHgk",
        "outputId": "20756551-5def-49f4-aa25-6780c15d52e8"
      },
      "outputs": [
        {
          "data": {
            "text/html": [
              "<span class=\"tex2jax_ignore\"><div class=\"entities\" style=\"line-height: 2.5; direction: ltr\">Hi, Think thousand time before buying. \n",
              "<mark class=\"entity\" style=\"background: #e4e7d2; padding: 0.45em 0.6em; margin: 0 0.25em; line-height: 1; border-radius: 0.35em;\">\n",
              "    One\n",
              "    <span style=\"font-size: 0.8em; font-weight: bold; line-height: 1; border-radius: 0.35em; text-transform: uppercase; vertical-align: middle; margin-left: 0.5rem\">CARDINAL</span>\n",
              "</mark>\n",
              " calm night i was cuddling in jaipuri blanket while enjoying youtube on this expensive machine. Cold night and little excitement created electrostatic charge which spike though spaceBar button. that's how it went to deep sleep forever. Nothing can bring it back and i am in no mood in spending another fortune on this machine. \n",
              "<mark class=\"entity\" style=\"background: #7aecec; padding: 0.45em 0.6em; margin: 0 0.25em; line-height: 1; border-radius: 0.35em;\">\n",
              "    Apple\n",
              "    <span style=\"font-size: 0.8em; font-weight: bold; line-height: 1; border-radius: 0.35em; text-transform: uppercase; vertical-align: middle; margin-left: 0.5rem\">ORG</span>\n",
              "</mark>\n",
              ", of you (i)care, this is the least of security feature included in all electronic devices. And the best part, it was \n",
              "<mark class=\"entity\" style=\"background: #bfe1d9; padding: 0.45em 0.6em; margin: 0 0.25em; line-height: 1; border-radius: 0.35em;\">\n",
              "    a week\n",
              "    <span style=\"font-size: 0.8em; font-weight: bold; line-height: 1; border-radius: 0.35em; text-transform: uppercase; vertical-align: middle; margin-left: 0.5rem\">DATE</span>\n",
              "</mark>\n",
              " after Warranty expiration date.</div></span>"
            ],
            "text/plain": [
              "<IPython.core.display.HTML object>"
            ]
          },
          "metadata": {},
          "output_type": "display_data"
        }
      ],
      "source": [
        "#ner\n",
        "\n",
        "##Part Of Speech Tagging\n",
        "#nlp = spacy.load('en')\n",
        "nlp = spacy.load(\"en_core_web_sm\")\n",
        "one_block = book[10]\n",
        "doc_block = nlp(one_block)\n",
        "spacy.displacy.render(doc_block, style='ent', jupyter=True)"
      ]
    },
    {
      "cell_type": "code",
      "execution_count": null,
      "metadata": {
        "ExecuteTime": {
          "end_time": "2021-10-10T03:26:57.588306Z",
          "start_time": "2021-10-10T03:26:57.041393Z"
        },
        "id": "6TDOyCGKKHgl",
        "outputId": "d83609fb-951c-4114-f588-a822e8cf1ae1"
      },
      "outputs": [
        {
          "data": {
            "text/plain": [
              "<spacy.lang.en.English at 0x1f6a1f2c3d0>"
            ]
          },
          "execution_count": 11,
          "metadata": {},
          "output_type": "execute_result"
        }
      ],
      "source": [
        "spacy.load(\"en_core_web_sm\")"
      ]
    },
    {
      "cell_type": "code",
      "execution_count": null,
      "metadata": {
        "ExecuteTime": {
          "end_time": "2021-11-07T09:37:06.773097Z",
          "start_time": "2021-11-07T09:37:06.144528Z"
        },
        "id": "2-MEqpnbKHgm"
      },
      "outputs": [],
      "source": [
        "import spacy\n",
        "nlp = spacy.load(\"en_core_web_sm\")\n",
        "doc = nlp(u\"This is a sentence.\")"
      ]
    },
    {
      "cell_type": "code",
      "execution_count": null,
      "metadata": {
        "ExecuteTime": {
          "end_time": "2021-11-07T09:37:20.307883Z",
          "start_time": "2021-11-07T09:37:20.298200Z"
        },
        "id": "U8VJqMiFKHgn",
        "outputId": "e5ff0414-31f3-4e62-f31a-aaff21d5e7c8"
      },
      "outputs": [
        {
          "data": {
            "text/plain": [
              "\"Hi, Think thousand time before buying. One calm night i was cuddling in jaipuri blanket while enjoying youtube on this expensive machine. Cold night and little excitement created electrostatic charge which spike though spaceBar button. that's how it went to deep sleep forever. Nothing can bring it back and i am in no mood in spending another fortune on this machine. Apple, of you (i)care, this is the least of security feature included in all electronic devices. And the best part, it was a week after Warranty expiration date.\""
            ]
          },
          "execution_count": 13,
          "metadata": {},
          "output_type": "execute_result"
        }
      ],
      "source": [
        "one_block"
      ]
    },
    {
      "cell_type": "code",
      "execution_count": null,
      "metadata": {
        "ExecuteTime": {
          "end_time": "2021-11-07T09:37:44.956308Z",
          "start_time": "2021-11-07T09:37:44.859193Z"
        },
        "scrolled": true,
        "id": "P0d4F2G7KHgo",
        "outputId": "9340d403-409d-41a9-dafc-a30db35d6cd5"
      },
      "outputs": [
        {
          "name": "stdout",
          "output_type": "stream",
          "text": [
            "Hi INTJ\n",
            ", PUNCT\n",
            "Think VERB\n",
            "thousand NUM\n",
            "time NOUN\n",
            "before ADP\n",
            "buying NOUN\n",
            ". PUNCT\n",
            "One NUM\n",
            "calm ADJ\n",
            "night NOUN\n",
            "i PRON\n",
            "was AUX\n",
            "cuddling VERB\n",
            "in ADP\n",
            "jaipuri PROPN\n",
            "blanket NOUN\n",
            "while SCONJ\n",
            "enjoying VERB\n",
            "youtube NOUN\n",
            "on ADP\n",
            "this DET\n",
            "expensive ADJ\n",
            "machine NOUN\n",
            ". PUNCT\n",
            "Cold ADJ\n",
            "night NOUN\n",
            "and CCONJ\n",
            "little ADJ\n",
            "excitement NOUN\n",
            "created VERB\n",
            "electrostatic ADJ\n",
            "charge NOUN\n",
            "which DET\n",
            "spike VERB\n",
            "though SCONJ\n",
            "spaceBar PROPN\n",
            "button PROPN\n",
            ". PUNCT\n",
            "that DET\n",
            "'s AUX\n",
            "how ADV\n",
            "it PRON\n",
            "went VERB\n",
            "to ADP\n",
            "deep ADJ\n",
            "sleep NOUN\n",
            "forever ADV\n",
            ". PUNCT\n",
            "Nothing PRON\n",
            "can VERB\n",
            "bring VERB\n",
            "it PRON\n",
            "back ADV\n",
            "and CCONJ\n",
            "i PRON\n",
            "am AUX\n",
            "in ADP\n",
            "no DET\n",
            "mood NOUN\n",
            "in ADP\n",
            "spending VERB\n",
            "another DET\n",
            "fortune NOUN\n",
            "on ADP\n",
            "this DET\n",
            "machine NOUN\n",
            ". PUNCT\n",
            "Apple PROPN\n",
            ", PUNCT\n",
            "of ADP\n",
            "you PRON\n",
            "( PUNCT\n",
            "i)care X\n",
            ", PUNCT\n",
            "this DET\n",
            "is AUX\n",
            "the DET\n",
            "least ADJ\n",
            "of ADP\n",
            "security NOUN\n",
            "feature NOUN\n",
            "included VERB\n",
            "in ADP\n",
            "all DET\n",
            "electronic ADJ\n",
            "devices NOUN\n",
            ". PUNCT\n",
            "And CCONJ\n",
            "the DET\n",
            "best ADJ\n",
            "part NOUN\n",
            ", PUNCT\n",
            "it PRON\n",
            "was AUX\n",
            "a DET\n",
            "week NOUN\n",
            "after ADP\n",
            "Warranty PROPN\n",
            "expiration NOUN\n",
            "date NOUN\n",
            ". PUNCT\n"
          ]
        }
      ],
      "source": [
        "doc_block = nlp(one_block)\n",
        "for token in doc_block[:]:\n",
        "    print(token, token.pos_)"
      ]
    },
    {
      "cell_type": "code",
      "execution_count": null,
      "metadata": {
        "ExecuteTime": {
          "end_time": "2021-10-10T03:27:03.605914Z",
          "start_time": "2021-10-10T03:27:03.597310Z"
        },
        "id": "A5bJr93vKHgp",
        "outputId": "84b0f179-c55f-4898-a94b-4732571a2ca0"
      },
      "outputs": [
        {
          "name": "stdout",
          "output_type": "stream",
          "text": [
            "['kind', 'process', 'lag.3', 'looks', 'feels', 'product.4', 'battery', 'life', 'sound', 'clarity5', 'Purchased', 'sale', 'cost', '52k', 'Cons:1', 'memory2', 'softwares', 'available3', 'Operating', 'system']\n"
          ]
        }
      ],
      "source": [
        "#Filtering for nouns and verbs only\n",
        "nouns_verbs = [token.text for token in doc_block if token.pos_ in ('NOUN', 'VERB')]\n",
        "print(nouns_verbs[5:25])"
      ]
    },
    {
      "cell_type": "code",
      "execution_count": null,
      "metadata": {
        "ExecuteTime": {
          "end_time": "2021-10-10T03:27:05.362289Z",
          "start_time": "2021-10-10T03:27:04.422286Z"
        },
        "id": "h2CUGQq3KHgq",
        "outputId": "59d9a2ef-ca6b-4e64-b610-1cb2c0a135cf"
      },
      "outputs": [
        {
          "data": {
            "text/html": [
              "<div>\n",
              "<style scoped>\n",
              "    .dataframe tbody tr th:only-of-type {\n",
              "        vertical-align: middle;\n",
              "    }\n",
              "\n",
              "    .dataframe tbody tr th {\n",
              "        vertical-align: top;\n",
              "    }\n",
              "\n",
              "    .dataframe thead th {\n",
              "        text-align: right;\n",
              "    }\n",
              "</style>\n",
              "<table border=\"1\" class=\"dataframe\">\n",
              "  <thead>\n",
              "    <tr style=\"text-align: right;\">\n",
              "      <th></th>\n",
              "      <th>word</th>\n",
              "      <th>count</th>\n",
              "    </tr>\n",
              "  </thead>\n",
              "  <tbody>\n",
              "    <tr>\n",
              "      <th>0</th>\n",
              "      <td>weight</td>\n",
              "      <td>1</td>\n",
              "    </tr>\n",
              "    <tr>\n",
              "      <th>1</th>\n",
              "      <td>response</td>\n",
              "      <td>1</td>\n",
              "    </tr>\n",
              "    <tr>\n",
              "      <th>2</th>\n",
              "      <td>time2</td>\n",
              "      <td>1</td>\n",
              "    </tr>\n",
              "    <tr>\n",
              "      <th>3</th>\n",
              "      <td>optimize</td>\n",
              "      <td>1</td>\n",
              "    </tr>\n",
              "    <tr>\n",
              "      <th>4</th>\n",
              "      <td>avoids</td>\n",
              "      <td>1</td>\n",
              "    </tr>\n",
              "    <tr>\n",
              "      <th>5</th>\n",
              "      <td>kind</td>\n",
              "      <td>1</td>\n",
              "    </tr>\n",
              "    <tr>\n",
              "      <th>6</th>\n",
              "      <td>process</td>\n",
              "      <td>1</td>\n",
              "    </tr>\n",
              "    <tr>\n",
              "      <th>7</th>\n",
              "      <td>lag</td>\n",
              "      <td>1</td>\n",
              "    </tr>\n",
              "    <tr>\n",
              "      <th>8</th>\n",
              "      <td>looks</td>\n",
              "      <td>1</td>\n",
              "    </tr>\n",
              "    <tr>\n",
              "      <th>9</th>\n",
              "      <td>feels</td>\n",
              "      <td>1</td>\n",
              "    </tr>\n",
              "  </tbody>\n",
              "</table>\n",
              "</div>"
            ],
            "text/plain": [
              "       word  count\n",
              "0    weight      1\n",
              "1  response      1\n",
              "2     time2      1\n",
              "3  optimize      1\n",
              "4    avoids      1\n",
              "5      kind      1\n",
              "6   process      1\n",
              "7       lag      1\n",
              "8     looks      1\n",
              "9     feels      1"
            ]
          },
          "execution_count": 12,
          "metadata": {},
          "output_type": "execute_result"
        }
      ],
      "source": [
        "#Counting tokens again\n",
        "from sklearn.feature_extraction.text import CountVectorizer\n",
        "cv = CountVectorizer()\n",
        "\n",
        "X = cv.fit_transform(nouns_verbs)\n",
        "sum_words = X.sum(axis=0)\n",
        "words_freq = [(word, sum_words[0, idx]) for word, idx in cv.vocabulary_.items()]\n",
        "words_freq =sorted(words_freq, key = lambda x: x[1], reverse=True)\n",
        "wf_df = pd.DataFrame(words_freq)\n",
        "wf_df.columns = ['word', 'count']\n",
        "\n",
        "wf_df[0:10]"
      ]
    },
    {
      "cell_type": "code",
      "execution_count": null,
      "metadata": {
        "ExecuteTime": {
          "end_time": "2021-10-10T03:27:06.236485Z",
          "start_time": "2021-10-10T03:27:05.935464Z"
        },
        "id": "bZMf0kXGKHgr",
        "outputId": "51eb1391-6ad0-42db-f9eb-ed9a9629b0db"
      },
      "outputs": [
        {
          "data": {
            "text/plain": [
              "<matplotlib.axes._subplots.AxesSubplot at 0x7f7eeef7d390>"
            ]
          },
          "execution_count": 13,
          "metadata": {},
          "output_type": "execute_result"
        },
        {
          "data": {
            "image/png": "[encoded data removed]",
            "text/plain": [
              "<Figure size 864x576 with 1 Axes>"
            ]
          },
          "metadata": {
            "needs_background": "light"
          },
          "output_type": "display_data"
        }
      ],
      "source": [
        "##Visualizing results\n",
        "#Barchart for top 10 nouns + verbs\n",
        "wf_df[0:10].plot.bar(x='word', figsize=(12,8), title='Top verbs and nouns')"
      ]
    },
    {
      "cell_type": "markdown",
      "metadata": {
        "id": "3_sbVb93KHgs"
      },
      "source": [
        "#### Emotion Mining"
      ]
    },
    {
      "cell_type": "code",
      "execution_count": null,
      "metadata": {
        "ExecuteTime": {
          "end_time": "2021-11-07T09:47:09.603258Z",
          "start_time": "2021-11-07T09:47:09.583898Z"
        },
        "id": "yI111-icKHgt",
        "outputId": "1da845ba-7ea3-42e6-b627-a0d2794dc6ef"
      },
      "outputs": [
        {
          "data": {
            "text/plain": [
              "(2477, 2)"
            ]
          },
          "execution_count": 13,
          "metadata": {},
          "output_type": "execute_result"
        }
      ],
      "source": [
        "#Sentiment analysis\n",
        "afinn = pd.read_csv('Afinn.csv', sep=',', encoding='latin-1')\n",
        "afinn.shape"
      ]
    },
    {
      "cell_type": "code",
      "execution_count": null,
      "metadata": {
        "ExecuteTime": {
          "end_time": "2021-11-07T09:47:10.116472Z",
          "start_time": "2021-11-07T09:47:10.106256Z"
        },
        "id": "6I0FmWvkKHgt",
        "outputId": "5deeca6e-9b18-4fd9-890d-2361411a90fe"
      },
      "outputs": [
        {
          "data": {
            "text/html": [
              "<div>\n",
              "<style scoped>\n",
              "    .dataframe tbody tr th:only-of-type {\n",
              "        vertical-align: middle;\n",
              "    }\n",
              "\n",
              "    .dataframe tbody tr th {\n",
              "        vertical-align: top;\n",
              "    }\n",
              "\n",
              "    .dataframe thead th {\n",
              "        text-align: right;\n",
              "    }\n",
              "</style>\n",
              "<table border=\"1\" class=\"dataframe\">\n",
              "  <thead>\n",
              "    <tr style=\"text-align: right;\">\n",
              "      <th></th>\n",
              "      <th>word</th>\n",
              "      <th>value</th>\n",
              "    </tr>\n",
              "  </thead>\n",
              "  <tbody>\n",
              "    <tr>\n",
              "      <th>0</th>\n",
              "      <td>abandon</td>\n",
              "      <td>-2</td>\n",
              "    </tr>\n",
              "    <tr>\n",
              "      <th>1</th>\n",
              "      <td>abandoned</td>\n",
              "      <td>-2</td>\n",
              "    </tr>\n",
              "    <tr>\n",
              "      <th>2</th>\n",
              "      <td>abandons</td>\n",
              "      <td>-2</td>\n",
              "    </tr>\n",
              "    <tr>\n",
              "      <th>3</th>\n",
              "      <td>abducted</td>\n",
              "      <td>-2</td>\n",
              "    </tr>\n",
              "    <tr>\n",
              "      <th>4</th>\n",
              "      <td>abduction</td>\n",
              "      <td>-2</td>\n",
              "    </tr>\n",
              "    <tr>\n",
              "      <th>5</th>\n",
              "      <td>abductions</td>\n",
              "      <td>-2</td>\n",
              "    </tr>\n",
              "    <tr>\n",
              "      <th>6</th>\n",
              "      <td>abhor</td>\n",
              "      <td>-3</td>\n",
              "    </tr>\n",
              "    <tr>\n",
              "      <th>7</th>\n",
              "      <td>abhorred</td>\n",
              "      <td>-3</td>\n",
              "    </tr>\n",
              "    <tr>\n",
              "      <th>8</th>\n",
              "      <td>abhorrent</td>\n",
              "      <td>-3</td>\n",
              "    </tr>\n",
              "    <tr>\n",
              "      <th>9</th>\n",
              "      <td>abhors</td>\n",
              "      <td>-3</td>\n",
              "    </tr>\n",
              "    <tr>\n",
              "      <th>10</th>\n",
              "      <td>abilities</td>\n",
              "      <td>2</td>\n",
              "    </tr>\n",
              "    <tr>\n",
              "      <th>11</th>\n",
              "      <td>ability</td>\n",
              "      <td>2</td>\n",
              "    </tr>\n",
              "    <tr>\n",
              "      <th>12</th>\n",
              "      <td>aboard</td>\n",
              "      <td>1</td>\n",
              "    </tr>\n",
              "    <tr>\n",
              "      <th>13</th>\n",
              "      <td>absentee</td>\n",
              "      <td>-1</td>\n",
              "    </tr>\n",
              "    <tr>\n",
              "      <th>14</th>\n",
              "      <td>absentees</td>\n",
              "      <td>-1</td>\n",
              "    </tr>\n",
              "    <tr>\n",
              "      <th>15</th>\n",
              "      <td>absolve</td>\n",
              "      <td>2</td>\n",
              "    </tr>\n",
              "    <tr>\n",
              "      <th>16</th>\n",
              "      <td>absolved</td>\n",
              "      <td>2</td>\n",
              "    </tr>\n",
              "    <tr>\n",
              "      <th>17</th>\n",
              "      <td>absolves</td>\n",
              "      <td>2</td>\n",
              "    </tr>\n",
              "    <tr>\n",
              "      <th>18</th>\n",
              "      <td>absolving</td>\n",
              "      <td>2</td>\n",
              "    </tr>\n",
              "    <tr>\n",
              "      <th>19</th>\n",
              "      <td>absorbed</td>\n",
              "      <td>1</td>\n",
              "    </tr>\n",
              "  </tbody>\n",
              "</table>\n",
              "</div>"
            ],
            "text/plain": [
              "          word  value\n",
              "0      abandon     -2\n",
              "1    abandoned     -2\n",
              "2     abandons     -2\n",
              "3     abducted     -2\n",
              "4    abduction     -2\n",
              "5   abductions     -2\n",
              "6        abhor     -3\n",
              "7     abhorred     -3\n",
              "8    abhorrent     -3\n",
              "9       abhors     -3\n",
              "10   abilities      2\n",
              "11     ability      2\n",
              "12      aboard      1\n",
              "13    absentee     -1\n",
              "14   absentees     -1\n",
              "15     absolve      2\n",
              "16    absolved      2\n",
              "17    absolves      2\n",
              "18   absolving      2\n",
              "19    absorbed      1"
            ]
          },
          "execution_count": 14,
          "metadata": {},
          "output_type": "execute_result"
        }
      ],
      "source": [
        "afinn.head(20)"
      ]
    },
    {
      "cell_type": "code",
      "execution_count": null,
      "metadata": {
        "ExecuteTime": {
          "end_time": "2021-11-07T09:46:30.346929Z",
          "start_time": "2021-11-07T09:46:30.317110Z"
        },
        "id": "3fufJqHKKHgu",
        "outputId": "7553aeb8-d82f-460a-f089-4a3f55d1da06"
      },
      "outputs": [
        {
          "name": "stderr",
          "output_type": "stream",
          "text": [
            "b'Skipping line 6: expected 1 fields, saw 14\\n'\n"
          ]
        }
      ],
      "source": [
        "import numpy as np # linear algebra\n",
        "import pandas as pd # data processing, CSV file I/O (e.g. pd.read_csv)\n",
        "import string # special operations on strings\n",
        "import spacy # language models\n",
        "\n",
        "from matplotlib.pyplot import imread\n",
        "from matplotlib import pyplot as plt\n",
        "from wordcloud import WordCloud\n",
        "%matplotlib inline\n",
        "\n",
        "import pandas\n",
        "book=pd.read_csv(\"apple.txt\",error_bad_lines=False)\n",
        "book = [x.strip() for x in book.x] # remove both the leading and the trailing characters\n",
        "book = [x for x in book if x] # removes empty strings, because they are considered in Python as False"
      ]
    },
    {
      "cell_type": "code",
      "execution_count": null,
      "metadata": {
        "id": "JJiEnOaCKHgv",
        "outputId": "3b95deff-0942-453f-9f26-c1760c4022d4"
      },
      "outputs": [
        {
          "name": "stderr",
          "output_type": "stream",
          "text": [
            "[nltk_data] Downloading package punkt to\n",
            "[nltk_data]     C:\\Users\\gokul\\AppData\\Roaming\\nltk_data...\n",
            "[nltk_data]   Unzipping tokenizers\\punkt.zip.\n"
          ]
        },
        {
          "data": {
            "text/plain": [
              "True"
            ]
          },
          "execution_count": 19,
          "metadata": {},
          "output_type": "execute_result"
        }
      ],
      "source": [
        "import nltk\n",
        "nltk.download('punkt')"
      ]
    },
    {
      "cell_type": "code",
      "execution_count": null,
      "metadata": {
        "ExecuteTime": {
          "end_time": "2021-11-07T09:46:34.606229Z",
          "start_time": "2021-11-07T09:46:33.071104Z"
        },
        "id": "S-NsrH0iKHgv",
        "outputId": "b33c2a75-f053-4771-95a0-17fbc7b05011"
      },
      "outputs": [
        {
          "data": {
            "text/plain": [
              "['), all printers are not compatible (e.g.',\n",
              " \"the most economical MFD laser printer RICOH SP 111 can't be used), huge compatibility issues with Pages (MS Word) and Keynote (powerpoint) unless you master it by working on these (still mostly the document and slides either do not open in windows environment or have distortion issues).\",\n",
              " 'you need to spend extra for an external CD writer and tp buy a carry bag.',\n",
              " 'Mac con not be connected to most of the projectors unless you buy some connectors, which are expensive and theres no clarity which one to buy and from where.',\n",
              " \"you can't connect it to your TV, the ports are different and again theres no clarity - customer support, manuals or help section are silent !\",\n",
              " 'Marketing strategy for Indian market, if at all has been planned, has been very bad.',\n",
              " 'If these critical issues (and a few more not mentioned here) are handled properly, the Mac can sweep away other laptops in India.',\n",
              " \"Presently, it doesn't seem to be happening.Overall Verdict.If compatibility issues mentioned above do not bother you, go for it.\",\n",
              " 'Else, think hard.',\n",
              " 'If its an emotional issue to own a long cherished Mac, then its a different thing.']"
            ]
          },
          "execution_count": 20,
          "metadata": {},
          "output_type": "execute_result"
        }
      ],
      "source": [
        "from nltk import tokenize\n",
        "sentences = tokenize.sent_tokenize(\" \".join(book))\n",
        "sentences[5:15]"
      ]
    },
    {
      "cell_type": "code",
      "execution_count": null,
      "metadata": {
        "ExecuteTime": {
          "end_time": "2021-11-07T09:46:38.248350Z",
          "start_time": "2021-11-07T09:46:38.224651Z"
        },
        "id": "vOuq60BMKHgw",
        "outputId": "c3269eb7-1912-4e16-bcfd-56b267084dbf"
      },
      "outputs": [
        {
          "data": {
            "text/html": [
              "<div>\n",
              "<style scoped>\n",
              "    .dataframe tbody tr th:only-of-type {\n",
              "        vertical-align: middle;\n",
              "    }\n",
              "\n",
              "    .dataframe tbody tr th {\n",
              "        vertical-align: top;\n",
              "    }\n",
              "\n",
              "    .dataframe thead th {\n",
              "        text-align: right;\n",
              "    }\n",
              "</style>\n",
              "<table border=\"1\" class=\"dataframe\">\n",
              "  <thead>\n",
              "    <tr style=\"text-align: right;\">\n",
              "      <th></th>\n",
              "      <th>sentence</th>\n",
              "    </tr>\n",
              "  </thead>\n",
              "  <tbody>\n",
              "    <tr>\n",
              "      <th>0</th>\n",
              "      <td>It's amazing..... battery last around 10 -12 h...</td>\n",
              "    </tr>\n",
              "    <tr>\n",
              "      <th>1</th>\n",
              "      <td>Got it in 50k in Diwali sale.</td>\n",
              "    </tr>\n",
              "    <tr>\n",
              "      <th>2</th>\n",
              "      <td>Technically good laptop.Good News.luxury produ...</td>\n",
              "    </tr>\n",
              "    <tr>\n",
              "      <th>3</th>\n",
              "      <td>Terrific sense of possession &amp; pride.Bad News.</td>\n",
              "    </tr>\n",
              "    <tr>\n",
              "      <th>4</th>\n",
              "      <td>Problems will be there if you are switching fr...</td>\n",
              "    </tr>\n",
              "    <tr>\n",
              "      <th>...</th>\n",
              "      <td>...</td>\n",
              "    </tr>\n",
              "    <tr>\n",
              "      <th>182</th>\n",
              "      <td>You can get one of the best movie experiences ...</td>\n",
              "    </tr>\n",
              "    <tr>\n",
              "      <th>183</th>\n",
              "      <td>Overall I would it a 4.5/5.</td>\n",
              "    </tr>\n",
              "    <tr>\n",
              "      <th>184</th>\n",
              "      <td>I got a great deal on this laptop, which I hav...</td>\n",
              "    </tr>\n",
              "    <tr>\n",
              "      <th>185</th>\n",
              "      <td>I got it not only on discount but also was abl...</td>\n",
              "    </tr>\n",
              "    <tr>\n",
              "      <th>186</th>\n",
              "      <td>Laptop works really well, it was a good purchase!</td>\n",
              "    </tr>\n",
              "  </tbody>\n",
              "</table>\n",
              "<p>187 rows × 1 columns</p>\n",
              "</div>"
            ],
            "text/plain": [
              "                                              sentence\n",
              "0    It's amazing..... battery last around 10 -12 h...\n",
              "1                        Got it in 50k in Diwali sale.\n",
              "2    Technically good laptop.Good News.luxury produ...\n",
              "3       Terrific sense of possession & pride.Bad News.\n",
              "4    Problems will be there if you are switching fr...\n",
              "..                                                 ...\n",
              "182  You can get one of the best movie experiences ...\n",
              "183                        Overall I would it a 4.5/5.\n",
              "184  I got a great deal on this laptop, which I hav...\n",
              "185  I got it not only on discount but also was abl...\n",
              "186  Laptop works really well, it was a good purchase!\n",
              "\n",
              "[187 rows x 1 columns]"
            ]
          },
          "execution_count": 21,
          "metadata": {},
          "output_type": "execute_result"
        }
      ],
      "source": [
        "sent_df = pd.DataFrame(sentences, columns=['sentence'])\n",
        "sent_df"
      ]
    },
    {
      "cell_type": "code",
      "execution_count": null,
      "metadata": {
        "ExecuteTime": {
          "end_time": "2021-11-07T09:47:15.303793Z",
          "start_time": "2021-11-07T09:47:15.262184Z"
        },
        "id": "_qj7yoHrKHgw"
      },
      "outputs": [],
      "source": [
        "affinity_scores = afinn.set_index('word')['value'].to_dict()"
      ]
    },
    {
      "cell_type": "code",
      "execution_count": null,
      "metadata": {
        "ExecuteTime": {
          "end_time": "2021-11-07T09:47:23.273153Z",
          "start_time": "2021-11-07T09:47:23.225048Z"
        },
        "id": "4lC-eGCUKHgx",
        "outputId": "632b71a1-e063-4c00-e9ef-7678dfc68dc6"
      },
      "outputs": [
        {
          "data": {
            "text/plain": [
              "{'abandon': -2,\n",
              " 'abandoned': -2,\n",
              " 'abandons': -2,\n",
              " 'abducted': -2,\n",
              " 'abduction': -2,\n",
              " 'abductions': -2,\n",
              " 'abhor': -3,\n",
              " 'abhorred': -3,\n",
              " 'abhorrent': -3,\n",
              " 'abhors': -3,\n",
              " 'abilities': 2,\n",
              " 'ability': 2,\n",
              " 'aboard': 1,\n",
              " 'absentee': -1,\n",
              " 'absentees': -1,\n",
              " 'absolve': 2,\n",
              " 'absolved': 2,\n",
              " 'absolves': 2,\n",
              " 'absolving': 2,\n",
              " 'absorbed': 1,\n",
              " 'abuse': -3,\n",
              " 'abused': -3,\n",
              " 'abuses': -3,\n",
              " 'abusive': -3,\n",
              " 'accept': 1,\n",
              " 'accepted': 1,\n",
              " 'accepting': 1,\n",
              " 'accepts': 1,\n",
              " 'accident': -2,\n",
              " 'accidental': -2,\n",
              " 'accidentally': -2,\n",
              " 'accidents': -2,\n",
              " 'accomplish': 2,\n",
              " 'accomplished': 2,\n",
              " 'accomplishes': 2,\n",
              " 'accusation': -2,\n",
              " 'accusations': -2,\n",
              " 'accuse': -2,\n",
              " 'accused': -2,\n",
              " 'accuses': -2,\n",
              " 'accusing': -2,\n",
              " 'ache': -2,\n",
              " 'achievable': 1,\n",
              " 'aching': -2,\n",
              " 'acquit': 2,\n",
              " 'acquits': 2,\n",
              " 'acquitted': 2,\n",
              " 'acquitting': 2,\n",
              " 'acrimonious': -3,\n",
              " 'active': 1,\n",
              " 'adequate': 1,\n",
              " 'admire': 3,\n",
              " 'admired': 3,\n",
              " 'admires': 3,\n",
              " 'admiring': 3,\n",
              " 'admit': -1,\n",
              " 'admits': -1,\n",
              " 'admitted': -1,\n",
              " 'admonish': -2,\n",
              " 'admonished': -2,\n",
              " 'adopt': 1,\n",
              " 'adopts': 1,\n",
              " 'adorable': 3,\n",
              " 'adore': 3,\n",
              " 'adored': 3,\n",
              " 'adores': 3,\n",
              " 'advanced': 1,\n",
              " 'advantage': 2,\n",
              " 'advantages': 2,\n",
              " 'adventure': 2,\n",
              " 'adventures': 2,\n",
              " 'adventurous': 2,\n",
              " 'affected': -1,\n",
              " 'affection': 3,\n",
              " 'affectionate': 3,\n",
              " 'afflicted': -1,\n",
              " 'affronted': -1,\n",
              " 'afraid': -2,\n",
              " 'aggravate': -2,\n",
              " 'aggravated': -2,\n",
              " 'aggravates': -2,\n",
              " 'aggravating': -2,\n",
              " 'aggression': -2,\n",
              " 'aggressions': -2,\n",
              " 'aggressive': -2,\n",
              " 'aghast': -2,\n",
              " 'agog': 2,\n",
              " 'agonise': -3,\n",
              " 'agonised': -3,\n",
              " 'agonises': -3,\n",
              " 'agonising': -3,\n",
              " 'agonize': -3,\n",
              " 'agonized': -3,\n",
              " 'agonizes': -3,\n",
              " 'agonizing': -3,\n",
              " 'agree': 1,\n",
              " 'agreeable': 2,\n",
              " 'agreed': 1,\n",
              " 'agreement': 1,\n",
              " 'agrees': 1,\n",
              " 'alarm': -2,\n",
              " 'alarmed': -2,\n",
              " 'alarmist': -2,\n",
              " 'alarmists': -2,\n",
              " 'alas': -1,\n",
              " 'alert': -1,\n",
              " 'alienation': -2,\n",
              " 'alive': 1,\n",
              " 'allergic': -2,\n",
              " 'allow': 1,\n",
              " 'alone': -2,\n",
              " 'amaze': 2,\n",
              " 'amazed': 2,\n",
              " 'amazes': 2,\n",
              " 'amazing': 4,\n",
              " 'ambitious': 2,\n",
              " 'ambivalent': -1,\n",
              " 'amuse': 3,\n",
              " 'amused': 3,\n",
              " 'amusement': 3,\n",
              " 'amusements': 3,\n",
              " 'anger': -3,\n",
              " 'angers': -3,\n",
              " 'angry': -3,\n",
              " 'anguish': -3,\n",
              " 'anguished': -3,\n",
              " 'animosity': -2,\n",
              " 'annoy': -2,\n",
              " 'annoyance': -2,\n",
              " 'annoyed': -2,\n",
              " 'annoying': -2,\n",
              " 'annoys': -2,\n",
              " 'antagonistic': -2,\n",
              " 'anti': -1,\n",
              " 'anticipation': 1,\n",
              " 'anxiety': -2,\n",
              " 'anxious': -2,\n",
              " 'apathetic': -3,\n",
              " 'apathy': -3,\n",
              " 'apeshit': -3,\n",
              " 'apocalyptic': -2,\n",
              " 'apologise': -1,\n",
              " 'apologised': -1,\n",
              " 'apologises': -1,\n",
              " 'apologising': -1,\n",
              " 'apologize': -1,\n",
              " 'apologized': -1,\n",
              " 'apologizes': -1,\n",
              " 'apologizing': -1,\n",
              " 'apology': -1,\n",
              " 'appalled': -2,\n",
              " 'appalling': -2,\n",
              " 'appease': 2,\n",
              " 'appeased': 2,\n",
              " 'appeases': 2,\n",
              " 'appeasing': 2,\n",
              " 'applaud': 2,\n",
              " 'applauded': 2,\n",
              " 'applauding': 2,\n",
              " 'applauds': 2,\n",
              " 'applause': 2,\n",
              " 'appreciate': 2,\n",
              " 'appreciated': 2,\n",
              " 'appreciates': 2,\n",
              " 'appreciating': 2,\n",
              " 'appreciation': 2,\n",
              " 'apprehensive': -2,\n",
              " 'approval': 2,\n",
              " 'approved': 2,\n",
              " 'approves': 2,\n",
              " 'ardent': 1,\n",
              " 'arrest': -2,\n",
              " 'arrested': -3,\n",
              " 'arrests': -2,\n",
              " 'arrogant': -2,\n",
              " 'ashame': -2,\n",
              " 'ashamed': -2,\n",
              " 'ass': -4,\n",
              " 'assassination': -3,\n",
              " 'assassinations': -3,\n",
              " 'asset': 2,\n",
              " 'assets': 2,\n",
              " 'assfucking': -4,\n",
              " 'asshole': -4,\n",
              " 'astonished': 2,\n",
              " 'astound': 3,\n",
              " 'astounded': 3,\n",
              " 'astounding': 3,\n",
              " 'astoundingly': 3,\n",
              " 'astounds': 3,\n",
              " 'attack': -1,\n",
              " 'attacked': -1,\n",
              " 'attacking': -1,\n",
              " 'attacks': -1,\n",
              " 'attract': 1,\n",
              " 'attracted': 1,\n",
              " 'attracting': 2,\n",
              " 'attraction': 2,\n",
              " 'attractions': 2,\n",
              " 'attracts': 1,\n",
              " 'audacious': 3,\n",
              " 'authority': 1,\n",
              " 'avert': -1,\n",
              " 'averted': -1,\n",
              " 'averts': -1,\n",
              " 'avid': 2,\n",
              " 'avoid': -1,\n",
              " 'avoided': -1,\n",
              " 'avoids': -1,\n",
              " 'await': -1,\n",
              " 'awaited': -1,\n",
              " 'awaits': -1,\n",
              " 'award': 3,\n",
              " 'awarded': 3,\n",
              " 'awards': 3,\n",
              " 'awesome': 4,\n",
              " 'awful': -3,\n",
              " 'awkward': -2,\n",
              " 'axe': -1,\n",
              " 'axed': -1,\n",
              " 'backed': 1,\n",
              " 'backing': 2,\n",
              " 'backs': 1,\n",
              " 'bad': -3,\n",
              " 'badass': -3,\n",
              " 'badly': -3,\n",
              " 'bailout': -2,\n",
              " 'bamboozle': -2,\n",
              " 'bamboozled': -2,\n",
              " 'bamboozles': -2,\n",
              " 'ban': -2,\n",
              " 'banish': -1,\n",
              " 'bankrupt': -3,\n",
              " 'bankster': -3,\n",
              " 'banned': -2,\n",
              " 'bargain': 2,\n",
              " 'barrier': -2,\n",
              " 'bastard': -5,\n",
              " 'bastards': -5,\n",
              " 'battle': -1,\n",
              " 'battles': -1,\n",
              " 'beaten': -2,\n",
              " 'beatific': 3,\n",
              " 'beating': -1,\n",
              " 'beauties': 3,\n",
              " 'beautiful': 3,\n",
              " 'beautifully': 3,\n",
              " 'beautify': 3,\n",
              " 'belittle': -2,\n",
              " 'belittled': -2,\n",
              " 'beloved': 3,\n",
              " 'benefit': 2,\n",
              " 'benefits': 2,\n",
              " 'benefitted': 2,\n",
              " 'benefitting': 2,\n",
              " 'bereave': -2,\n",
              " 'bereaved': -2,\n",
              " 'bereaves': -2,\n",
              " 'bereaving': -2,\n",
              " 'best': 3,\n",
              " 'betray': -3,\n",
              " 'betrayal': -3,\n",
              " 'betrayed': -3,\n",
              " 'betraying': -3,\n",
              " 'betrays': -3,\n",
              " 'better': 2,\n",
              " 'bias': -1,\n",
              " 'biased': -2,\n",
              " 'big': 1,\n",
              " 'bitch': -5,\n",
              " 'bitches': -5,\n",
              " 'bitter': -2,\n",
              " 'bitterly': -2,\n",
              " 'bizarre': -2,\n",
              " 'blah': -2,\n",
              " 'blame': -2,\n",
              " 'blamed': -2,\n",
              " 'blames': -2,\n",
              " 'blaming': -2,\n",
              " 'bless': 2,\n",
              " 'blesses': 2,\n",
              " 'blessing': 3,\n",
              " 'blind': -1,\n",
              " 'bliss': 3,\n",
              " 'blissful': 3,\n",
              " 'blithe': 2,\n",
              " 'block': -1,\n",
              " 'blockbuster': 3,\n",
              " 'blocked': -1,\n",
              " 'blocking': -1,\n",
              " 'blocks': -1,\n",
              " 'bloody': -3,\n",
              " 'blurry': -2,\n",
              " 'boastful': -2,\n",
              " 'bold': 2,\n",
              " 'boldly': 2,\n",
              " 'bomb': -1,\n",
              " 'boost': 1,\n",
              " 'boosted': 1,\n",
              " 'boosting': 1,\n",
              " 'boosts': 1,\n",
              " 'bore': -2,\n",
              " 'bored': -2,\n",
              " 'boring': -3,\n",
              " 'bother': -2,\n",
              " 'bothered': -2,\n",
              " 'bothers': -2,\n",
              " 'bothersome': -2,\n",
              " 'boycott': -2,\n",
              " 'boycotted': -2,\n",
              " 'boycotting': -2,\n",
              " 'boycotts': -2,\n",
              " 'brainwashing': -3,\n",
              " 'brave': 2,\n",
              " 'breakthrough': 3,\n",
              " 'breathtaking': 5,\n",
              " 'bribe': -3,\n",
              " 'bright': 1,\n",
              " 'brightest': 2,\n",
              " 'brightness': 1,\n",
              " 'brilliant': 4,\n",
              " 'brisk': 2,\n",
              " 'broke': -1,\n",
              " 'broken': -1,\n",
              " 'brooding': -2,\n",
              " 'bullied': -2,\n",
              " 'bullshit': -4,\n",
              " 'bully': -2,\n",
              " 'bullying': -2,\n",
              " 'bummer': -2,\n",
              " 'buoyant': 2,\n",
              " 'burden': -2,\n",
              " 'burdened': -2,\n",
              " 'burdening': -2,\n",
              " 'burdens': -2,\n",
              " 'calm': 2,\n",
              " 'calmed': 2,\n",
              " 'calming': 2,\n",
              " 'calms': 2,\n",
              " \"can't stand\": -3,\n",
              " 'cancel': -1,\n",
              " 'cancelled': -1,\n",
              " 'cancelling': -1,\n",
              " 'cancels': -1,\n",
              " 'cancer': -1,\n",
              " 'capable': 1,\n",
              " 'captivated': 3,\n",
              " 'care': 2,\n",
              " 'carefree': 1,\n",
              " 'careful': 2,\n",
              " 'carefully': 2,\n",
              " 'careless': -2,\n",
              " 'cares': 2,\n",
              " 'cashing in': -2,\n",
              " 'casualty': -2,\n",
              " 'catastrophe': -3,\n",
              " 'catastrophic': -4,\n",
              " 'cautious': -1,\n",
              " 'celebrate': 3,\n",
              " 'celebrated': 3,\n",
              " 'celebrates': 3,\n",
              " 'celebrating': 3,\n",
              " 'censor': -2,\n",
              " 'censored': -2,\n",
              " 'censors': -2,\n",
              " 'certain': 1,\n",
              " 'chagrin': -2,\n",
              " 'chagrined': -2,\n",
              " 'challenge': -1,\n",
              " 'chance': 2,\n",
              " 'chances': 2,\n",
              " 'chaos': -2,\n",
              " 'chaotic': -2,\n",
              " 'charged': -3,\n",
              " 'charges': -2,\n",
              " 'charm': 3,\n",
              " 'charming': 3,\n",
              " 'charmless': -3,\n",
              " 'chastise': -3,\n",
              " 'chastised': -3,\n",
              " 'chastises': -3,\n",
              " 'chastising': -3,\n",
              " 'cheat': -3,\n",
              " 'cheated': -3,\n",
              " 'cheater': -3,\n",
              " 'cheaters': -3,\n",
              " 'cheats': -3,\n",
              " 'cheer': 2,\n",
              " 'cheered': 2,\n",
              " 'cheerful': 2,\n",
              " 'cheering': 2,\n",
              " 'cheerless': -2,\n",
              " 'cheers': 2,\n",
              " 'cheery': 3,\n",
              " 'cherish': 2,\n",
              " 'cherished': 2,\n",
              " 'cherishes': 2,\n",
              " 'cherishing': 2,\n",
              " 'chic': 2,\n",
              " 'childish': -2,\n",
              " 'chilling': -1,\n",
              " 'choke': -2,\n",
              " 'choked': -2,\n",
              " 'chokes': -2,\n",
              " 'choking': -2,\n",
              " 'clarifies': 2,\n",
              " 'clarity': 2,\n",
              " 'clash': -2,\n",
              " 'classy': 3,\n",
              " 'clean': 2,\n",
              " 'cleaner': 2,\n",
              " 'clear': 1,\n",
              " 'cleared': 1,\n",
              " 'clearly': 1,\n",
              " 'clears': 1,\n",
              " 'clever': 2,\n",
              " 'clouded': -1,\n",
              " 'clueless': -2,\n",
              " 'cock': -5,\n",
              " 'cocksucker': -5,\n",
              " 'cocksuckers': -5,\n",
              " 'cocky': -2,\n",
              " 'coerced': -2,\n",
              " 'collapse': -2,\n",
              " 'collapsed': -2,\n",
              " 'collapses': -2,\n",
              " 'collapsing': -2,\n",
              " 'collide': -1,\n",
              " 'collides': -1,\n",
              " 'colliding': -1,\n",
              " 'collision': -2,\n",
              " 'collisions': -2,\n",
              " 'colluding': -3,\n",
              " 'combat': -1,\n",
              " 'combats': -1,\n",
              " 'comedy': 1,\n",
              " 'comfort': 2,\n",
              " 'comfortable': 2,\n",
              " 'comforting': 2,\n",
              " 'comforts': 2,\n",
              " 'commend': 2,\n",
              " 'commended': 2,\n",
              " 'commit': 1,\n",
              " 'commitment': 2,\n",
              " 'commits': 1,\n",
              " 'committed': 1,\n",
              " 'committing': 1,\n",
              " 'compassionate': 2,\n",
              " 'compelled': 1,\n",
              " 'competent': 2,\n",
              " 'competitive': 2,\n",
              " 'complacent': -2,\n",
              " 'complain': -2,\n",
              " 'complained': -2,\n",
              " 'complains': -2,\n",
              " 'comprehensive': 2,\n",
              " 'conciliate': 2,\n",
              " 'conciliated': 2,\n",
              " 'conciliates': 2,\n",
              " 'conciliating': 2,\n",
              " 'condemn': -2,\n",
              " 'condemnation': -2,\n",
              " 'condemned': -2,\n",
              " 'condemns': -2,\n",
              " 'confidence': 2,\n",
              " 'confident': 2,\n",
              " 'conflict': -2,\n",
              " 'conflicting': -2,\n",
              " 'conflictive': -2,\n",
              " 'conflicts': -2,\n",
              " 'confuse': -2,\n",
              " 'confused': -2,\n",
              " 'confusing': -2,\n",
              " 'congrats': 2,\n",
              " 'congratulate': 2,\n",
              " 'congratulation': 2,\n",
              " 'congratulations': 2,\n",
              " 'consent': 2,\n",
              " 'consents': 2,\n",
              " 'consolable': 2,\n",
              " 'conspiracy': -3,\n",
              " 'constrained': -2,\n",
              " 'contagion': -2,\n",
              " 'contagions': -2,\n",
              " 'contagious': -1,\n",
              " 'contempt': -2,\n",
              " 'contemptuous': -2,\n",
              " 'contemptuously': -2,\n",
              " 'contend': -1,\n",
              " 'contender': -1,\n",
              " 'contending': -1,\n",
              " 'contentious': -2,\n",
              " 'contestable': -2,\n",
              " 'controversial': -2,\n",
              " 'controversially': -2,\n",
              " 'convince': 1,\n",
              " 'convinced': 1,\n",
              " 'convinces': 1,\n",
              " 'convivial': 2,\n",
              " 'cool': 1,\n",
              " 'cool stuff': 3,\n",
              " 'cornered': -2,\n",
              " 'corpse': -1,\n",
              " 'costly': -2,\n",
              " 'courage': 2,\n",
              " 'courageous': 2,\n",
              " 'courteous': 2,\n",
              " 'courtesy': 2,\n",
              " 'cover-up': -3,\n",
              " 'coward': -2,\n",
              " 'cowardly': -2,\n",
              " 'coziness': 2,\n",
              " 'cramp': -1,\n",
              " 'crap': -3,\n",
              " 'crash': -2,\n",
              " 'crazier': -2,\n",
              " 'craziest': -2,\n",
              " 'crazy': -2,\n",
              " 'creative': 2,\n",
              " 'crestfallen': -2,\n",
              " 'cried': -2,\n",
              " 'cries': -2,\n",
              " 'crime': -3,\n",
              " 'criminal': -3,\n",
              " 'criminals': -3,\n",
              " 'crisis': -3,\n",
              " 'critic': -2,\n",
              " 'criticism': -2,\n",
              " 'criticize': -2,\n",
              " 'criticized': -2,\n",
              " 'criticizes': -2,\n",
              " 'criticizing': -2,\n",
              " 'critics': -2,\n",
              " 'cruel': -3,\n",
              " 'cruelty': -3,\n",
              " 'crush': -1,\n",
              " 'crushed': -2,\n",
              " 'crushes': -1,\n",
              " 'crushing': -1,\n",
              " 'cry': -1,\n",
              " 'crying': -2,\n",
              " 'cunt': -5,\n",
              " 'curious': 1,\n",
              " 'curse': -1,\n",
              " 'cut': -1,\n",
              " 'cute': 2,\n",
              " 'cuts': -1,\n",
              " 'cutting': -1,\n",
              " 'cynic': -2,\n",
              " 'cynical': -2,\n",
              " 'cynicism': -2,\n",
              " 'damage': -3,\n",
              " 'damages': -3,\n",
              " 'damn': -4,\n",
              " 'damned': -4,\n",
              " 'damnit': -4,\n",
              " 'danger': -2,\n",
              " 'daredevil': 2,\n",
              " 'daring': 2,\n",
              " 'darkest': -2,\n",
              " 'darkness': -1,\n",
              " 'dauntless': 2,\n",
              " 'dead': -3,\n",
              " 'deadlock': -2,\n",
              " 'deafening': -1,\n",
              " 'dear': 2,\n",
              " 'dearly': 3,\n",
              " 'death': -2,\n",
              " 'debonair': 2,\n",
              " 'debt': -2,\n",
              " 'deceit': -3,\n",
              " 'deceitful': -3,\n",
              " 'deceive': -3,\n",
              " 'deceived': -3,\n",
              " 'deceives': -3,\n",
              " 'deceiving': -3,\n",
              " 'deception': -3,\n",
              " 'decisive': 1,\n",
              " 'dedicated': 2,\n",
              " 'defeated': -2,\n",
              " 'defect': -3,\n",
              " 'defects': -3,\n",
              " 'defender': 2,\n",
              " 'defenders': 2,\n",
              " 'defenseless': -2,\n",
              " 'defer': -1,\n",
              " 'deferring': -1,\n",
              " 'defiant': -1,\n",
              " 'deficit': -2,\n",
              " 'degrade': -2,\n",
              " 'degraded': -2,\n",
              " 'degrades': -2,\n",
              " 'dehumanize': -2,\n",
              " 'dehumanized': -2,\n",
              " 'dehumanizes': -2,\n",
              " 'dehumanizing': -2,\n",
              " 'deject': -2,\n",
              " 'dejected': -2,\n",
              " 'dejecting': -2,\n",
              " 'dejects': -2,\n",
              " 'delay': -1,\n",
              " 'delayed': -1,\n",
              " 'delight': 3,\n",
              " 'delighted': 3,\n",
              " 'delighting': 3,\n",
              " 'delights': 3,\n",
              " 'demand': -1,\n",
              " 'demanded': -1,\n",
              " 'demanding': -1,\n",
              " 'demands': -1,\n",
              " 'demonstration': -1,\n",
              " 'demoralized': -2,\n",
              " 'denied': -2,\n",
              " 'denier': -2,\n",
              " 'deniers': -2,\n",
              " 'denies': -2,\n",
              " 'denounce': -2,\n",
              " 'denounces': -2,\n",
              " 'deny': -2,\n",
              " 'denying': -2,\n",
              " 'depressed': -2,\n",
              " 'depressing': -2,\n",
              " 'derail': -2,\n",
              " 'derailed': -2,\n",
              " 'derails': -2,\n",
              " 'deride': -2,\n",
              " 'derided': -2,\n",
              " 'derides': -2,\n",
              " 'deriding': -2,\n",
              " 'derision': -2,\n",
              " 'desirable': 2,\n",
              " 'desire': 1,\n",
              " 'desired': 2,\n",
              " 'desirous': 2,\n",
              " 'despair': -3,\n",
              " 'despairing': -3,\n",
              " 'despairs': -3,\n",
              " 'desperate': -3,\n",
              " 'desperately': -3,\n",
              " 'despondent': -3,\n",
              " 'destroy': -3,\n",
              " 'destroyed': -3,\n",
              " 'destroying': -3,\n",
              " 'destroys': -3,\n",
              " 'destruction': -3,\n",
              " 'destructive': -3,\n",
              " 'detached': -1,\n",
              " 'detain': -2,\n",
              " 'detained': -2,\n",
              " 'detention': -2,\n",
              " 'determined': 2,\n",
              " 'devastate': -2,\n",
              " 'devastated': -2,\n",
              " 'devastating': -2,\n",
              " 'devoted': 3,\n",
              " 'diamond': 1,\n",
              " 'dick': -4,\n",
              " 'dickhead': -4,\n",
              " 'die': -3,\n",
              " 'died': -3,\n",
              " 'difficult': -1,\n",
              " 'diffident': -2,\n",
              " 'dilemma': -1,\n",
              " 'dipshit': -3,\n",
              " 'dire': -3,\n",
              " 'direful': -3,\n",
              " 'dirt': -2,\n",
              " 'dirtier': -2,\n",
              " 'dirtiest': -2,\n",
              " 'dirty': -2,\n",
              " 'disabling': -1,\n",
              " 'disadvantage': -2,\n",
              " 'disadvantaged': -2,\n",
              " 'disappear': -1,\n",
              " 'disappeared': -1,\n",
              " 'disappears': -1,\n",
              " 'disappoint': -2,\n",
              " 'disappointed': -2,\n",
              " 'disappointing': -2,\n",
              " 'disappointment': -2,\n",
              " 'disappointments': -2,\n",
              " 'disappoints': -2,\n",
              " 'disaster': -2,\n",
              " 'disasters': -2,\n",
              " 'disastrous': -3,\n",
              " 'disbelieve': -2,\n",
              " 'discard': -1,\n",
              " 'discarded': -1,\n",
              " 'discarding': -1,\n",
              " 'discards': -1,\n",
              " 'disconsolate': -2,\n",
              " 'disconsolation': -2,\n",
              " 'discontented': -2,\n",
              " 'discord': -2,\n",
              " 'discounted': -1,\n",
              " 'discouraged': -2,\n",
              " 'discredited': -2,\n",
              " 'disdain': -2,\n",
              " 'disgrace': -2,\n",
              " 'disgraced': -2,\n",
              " 'disguise': -1,\n",
              " 'disguised': -1,\n",
              " 'disguises': -1,\n",
              " 'disguising': -1,\n",
              " 'disgust': -3,\n",
              " 'disgusted': -3,\n",
              " 'disgusting': -3,\n",
              " 'disheartened': -2,\n",
              " 'dishonest': -2,\n",
              " 'disillusioned': -2,\n",
              " 'disinclined': -2,\n",
              " 'disjointed': -2,\n",
              " 'dislike': -2,\n",
              " 'dismal': -2,\n",
              " 'dismayed': -2,\n",
              " 'disorder': -2,\n",
              " 'disorganized': -2,\n",
              " 'disoriented': -2,\n",
              " 'disparage': -2,\n",
              " 'disparaged': -2,\n",
              " 'disparages': -2,\n",
              " 'disparaging': -2,\n",
              " 'displeased': -2,\n",
              " 'dispute': -2,\n",
              " 'disputed': -2,\n",
              " 'disputes': -2,\n",
              " 'disputing': -2,\n",
              " 'disqualified': -2,\n",
              " 'disquiet': -2,\n",
              " 'disregard': -2,\n",
              " 'disregarded': -2,\n",
              " 'disregarding': -2,\n",
              " 'disregards': -2,\n",
              " 'disrespect': -2,\n",
              " 'disrespected': -2,\n",
              " 'disruption': -2,\n",
              " 'disruptions': -2,\n",
              " 'disruptive': -2,\n",
              " 'dissatisfied': -2,\n",
              " 'distort': -2,\n",
              " 'distorted': -2,\n",
              " 'distorting': -2,\n",
              " 'distorts': -2,\n",
              " 'distract': -2,\n",
              " 'distracted': -2,\n",
              " 'distraction': -2,\n",
              " 'distracts': -2,\n",
              " 'distress': -2,\n",
              " 'distressed': -2,\n",
              " 'distresses': -2,\n",
              " 'distressing': -2,\n",
              " 'distrust': -3,\n",
              " 'distrustful': -3,\n",
              " 'disturb': -2,\n",
              " 'disturbed': -2,\n",
              " 'disturbing': -2,\n",
              " 'disturbs': -2,\n",
              " 'dithering': -2,\n",
              " 'dizzy': -1,\n",
              " 'dodging': -2,\n",
              " 'dodgy': -2,\n",
              " 'does not work': -3,\n",
              " 'dolorous': -2,\n",
              " 'dont like': -2,\n",
              " 'doom': -2,\n",
              " 'doomed': -2,\n",
              " 'doubt': -1,\n",
              " 'doubted': -1,\n",
              " 'doubtful': -1,\n",
              " 'doubting': -1,\n",
              " 'doubts': -1,\n",
              " 'douche': -3,\n",
              " 'douchebag': -3,\n",
              " 'downcast': -2,\n",
              " 'downhearted': -2,\n",
              " 'downside': -2,\n",
              " 'drag': -1,\n",
              " 'dragged': -1,\n",
              " 'drags': -1,\n",
              " 'drained': -2,\n",
              " 'dread': -2,\n",
              " 'dreaded': -2,\n",
              " 'dreadful': -3,\n",
              " 'dreading': -2,\n",
              " 'dream': 1,\n",
              " 'dreams': 1,\n",
              " 'dreary': -2,\n",
              " 'droopy': -2,\n",
              " 'drop': -1,\n",
              " 'drown': -2,\n",
              " 'drowned': -2,\n",
              " 'drowns': -2,\n",
              " 'drunk': -2,\n",
              " 'dubious': -2,\n",
              " 'dud': -2,\n",
              " 'dull': -2,\n",
              " 'dumb': -3,\n",
              " 'dumbass': -3,\n",
              " 'dump': -1,\n",
              " 'dumped': -2,\n",
              " 'dumps': -1,\n",
              " 'dupe': -2,\n",
              " 'duped': -2,\n",
              " 'dysfunction': -2,\n",
              " 'eager': 2,\n",
              " 'earnest': 2,\n",
              " 'ease': 2,\n",
              " 'easy': 1,\n",
              " 'ecstatic': 4,\n",
              " 'eerie': -2,\n",
              " 'eery': -2,\n",
              " 'effective': 2,\n",
              " 'effectively': 2,\n",
              " 'elated': 3,\n",
              " 'elation': 3,\n",
              " 'elegant': 2,\n",
              " 'elegantly': 2,\n",
              " 'embarrass': -2,\n",
              " 'embarrassed': -2,\n",
              " 'embarrasses': -2,\n",
              " 'embarrassing': -2,\n",
              " 'embarrassment': -2,\n",
              " 'embittered': -2,\n",
              " 'embrace': 1,\n",
              " 'emergency': -2,\n",
              " 'empathetic': 2,\n",
              " 'emptiness': -1,\n",
              " 'empty': -1,\n",
              " 'enchanted': 2,\n",
              " 'encourage': 2,\n",
              " 'encouraged': 2,\n",
              " 'encouragement': 2,\n",
              " 'encourages': 2,\n",
              " 'endorse': 2,\n",
              " 'endorsed': 2,\n",
              " 'endorsement': 2,\n",
              " 'endorses': 2,\n",
              " 'enemies': -2,\n",
              " 'enemy': -2,\n",
              " 'energetic': 2,\n",
              " 'engage': 1,\n",
              " 'engages': 1,\n",
              " 'engrossed': 1,\n",
              " 'enjoy': 2,\n",
              " 'enjoying': 2,\n",
              " 'enjoys': 2,\n",
              " 'enlighten': 2,\n",
              " 'enlightened': 2,\n",
              " 'enlightening': 2,\n",
              " 'enlightens': 2,\n",
              " 'ennui': -2,\n",
              " 'enrage': -2,\n",
              " 'enraged': -2,\n",
              " 'enrages': -2,\n",
              " 'enraging': -2,\n",
              " 'enrapture': 3,\n",
              " 'enslave': -2,\n",
              " 'enslaved': -2,\n",
              " 'enslaves': -2,\n",
              " 'ensure': 1,\n",
              " 'ensuring': 1,\n",
              " 'enterprising': 1,\n",
              " 'entertaining': 2,\n",
              " 'enthral': 3,\n",
              " 'enthusiastic': 3,\n",
              " 'entitled': 1,\n",
              " 'entrusted': 2,\n",
              " 'envies': -1,\n",
              " 'envious': -2,\n",
              " 'envy': -1,\n",
              " 'envying': -1,\n",
              " 'erroneous': -2,\n",
              " 'error': -2,\n",
              " 'errors': -2,\n",
              " 'escape': -1,\n",
              " 'escapes': -1,\n",
              " 'escaping': -1,\n",
              " 'esteemed': 2,\n",
              " 'ethical': 2,\n",
              " 'euphoria': 3,\n",
              " 'euphoric': 4,\n",
              " 'eviction': -1,\n",
              " 'evil': -3,\n",
              " 'exaggerate': -2,\n",
              " 'exaggerated': -2,\n",
              " 'exaggerates': -2,\n",
              " 'exaggerating': -2,\n",
              " 'exasperated': 2,\n",
              " 'excellence': 3,\n",
              " 'excellent': 3,\n",
              " 'excite': 3,\n",
              " 'excited': 3,\n",
              " 'excitement': 3,\n",
              " 'exciting': 3,\n",
              " 'exclude': -1,\n",
              " 'excluded': -2,\n",
              " 'exclusion': -1,\n",
              " 'exclusive': 2,\n",
              " 'excuse': -1,\n",
              " 'exempt': -1,\n",
              " 'exhausted': -2,\n",
              " 'exhilarated': 3,\n",
              " 'exhilarates': 3,\n",
              " 'exhilarating': 3,\n",
              " 'exonerate': 2,\n",
              " 'exonerated': 2,\n",
              " 'exonerates': 2,\n",
              " 'exonerating': 2,\n",
              " 'expand': 1,\n",
              " 'expands': 1,\n",
              " 'expel': -2,\n",
              " 'expelled': -2,\n",
              " 'expelling': -2,\n",
              " 'expels': -2,\n",
              " 'exploit': -2,\n",
              " 'exploited': -2,\n",
              " 'exploiting': -2,\n",
              " 'exploits': -2,\n",
              " 'exploration': 1,\n",
              " 'explorations': 1,\n",
              " 'expose': -1,\n",
              " 'exposed': -1,\n",
              " 'exposes': -1,\n",
              " 'exposing': -1,\n",
              " 'extend': 1,\n",
              " 'extends': 1,\n",
              " 'exuberant': 4,\n",
              " 'exultant': 3,\n",
              " 'exultantly': 3,\n",
              " 'fabulous': 4,\n",
              " 'fad': -2,\n",
              " 'fag': -3,\n",
              " 'faggot': -3,\n",
              " 'faggots': -3,\n",
              " 'fail': -2,\n",
              " 'failed': -2,\n",
              " 'failing': -2,\n",
              " 'fails': -2,\n",
              " 'failure': -2,\n",
              " 'failures': -2,\n",
              " 'fainthearted': -2,\n",
              " 'fair': 2,\n",
              " 'faith': 1,\n",
              " 'faithful': 3,\n",
              " 'fake': -3,\n",
              " 'fakes': -3,\n",
              " 'faking': -3,\n",
              " 'fallen': -2,\n",
              " 'falling': -1,\n",
              " 'falsified': -3,\n",
              " 'falsify': -3,\n",
              " 'fame': 1,\n",
              " 'fan': 3,\n",
              " 'fantastic': 4,\n",
              " 'farce': -1,\n",
              " 'fascinate': 3,\n",
              " 'fascinated': 3,\n",
              " 'fascinates': 3,\n",
              " 'fascinating': 3,\n",
              " 'fascist': -2,\n",
              " 'fascists': -2,\n",
              " 'fatalities': -3,\n",
              " 'fatality': -3,\n",
              " 'fatigue': -2,\n",
              " 'fatigued': -2,\n",
              " 'fatigues': -2,\n",
              " 'fatiguing': -2,\n",
              " 'favor': 2,\n",
              " 'favored': 2,\n",
              " 'favorite': 2,\n",
              " 'favorited': 2,\n",
              " 'favorites': 2,\n",
              " 'favors': 2,\n",
              " 'fear': -2,\n",
              " 'fearful': -2,\n",
              " 'fearing': -2,\n",
              " 'fearless': 2,\n",
              " 'fearsome': -2,\n",
              " 'fed up': -3,\n",
              " 'feeble': -2,\n",
              " 'feeling': 1,\n",
              " 'felonies': -3,\n",
              " 'felony': -3,\n",
              " 'fervent': 2,\n",
              " 'fervid': 2,\n",
              " 'festive': 2,\n",
              " 'fiasco': -3,\n",
              " 'fidgety': -2,\n",
              " 'fight': -1,\n",
              " 'fine': 2,\n",
              " 'fire': -2,\n",
              " 'fired': -2,\n",
              " 'firing': -2,\n",
              " 'fit': 1,\n",
              " 'fitness': 1,\n",
              " 'flagship': 2,\n",
              " 'flees': -1,\n",
              " 'flop': -2,\n",
              " 'flops': -2,\n",
              " 'flu': -2,\n",
              " ...}"
            ]
          },
          "execution_count": 23,
          "metadata": {},
          "output_type": "execute_result"
        }
      ],
      "source": [
        "affinity_scores"
      ]
    },
    {
      "cell_type": "code",
      "execution_count": null,
      "metadata": {
        "ExecuteTime": {
          "end_time": "2021-11-07T09:50:22.427234Z",
          "start_time": "2021-11-07T09:50:22.422531Z"
        },
        "id": "evuqyOg6KHgx"
      },
      "outputs": [],
      "source": [
        "#Custom function :score each word in a sentence in lemmatised form, \n",
        "#but calculate the score for the whole original sentence.\n",
        "#nlp = spacy.load('en')\n",
        "sentiment_lexicon = affinity_scores\n",
        "\n",
        "def calculate_sentiment(text: str = None):\n",
        "    sent_score = 0\n",
        "    if text:\n",
        "        sentence = nlp(text)\n",
        "        for word in sentence:\n",
        "            sent_score += sentiment_lexicon.get(word.lemma_, 0)\n",
        "    return sent_score"
      ]
    },
    {
      "cell_type": "code",
      "execution_count": null,
      "metadata": {
        "ExecuteTime": {
          "end_time": "2021-11-07T10:01:53.139814Z",
          "start_time": "2021-11-07T10:01:53.119437Z"
        },
        "id": "0_07LCkHKHgy",
        "outputId": "35002a53-517b-4fb0-a864-6fd72587dcc0"
      },
      "outputs": [
        {
          "data": {
            "text/plain": [
              "0"
            ]
          },
          "execution_count": 25,
          "metadata": {},
          "output_type": "execute_result"
        }
      ],
      "source": [
        "# test that it works\n",
        "calculate_sentiment(text = 'i am feeling diwali')"
      ]
    },
    {
      "cell_type": "code",
      "execution_count": null,
      "metadata": {
        "ExecuteTime": {
          "end_time": "2021-10-10T03:27:14.773026Z",
          "start_time": "2021-10-10T03:27:13.259638Z"
        },
        "id": "neELjKTRKHgy"
      },
      "outputs": [],
      "source": [
        "sent_df['sentiment_value'] = sent_df['sentence'].apply(calculate_sentiment)"
      ]
    },
    {
      "cell_type": "code",
      "execution_count": null,
      "metadata": {
        "ExecuteTime": {
          "end_time": "2021-10-10T03:27:14.795862Z",
          "start_time": "2021-10-10T03:27:14.776089Z"
        },
        "id": "ocvzkiPQKHgz",
        "outputId": "ad252749-0885-444d-b4b1-f9fa98a38cf2"
      },
      "outputs": [
        {
          "data": {
            "text/html": [
              "<div>\n",
              "<style scoped>\n",
              "    .dataframe tbody tr th:only-of-type {\n",
              "        vertical-align: middle;\n",
              "    }\n",
              "\n",
              "    .dataframe tbody tr th {\n",
              "        vertical-align: top;\n",
              "    }\n",
              "\n",
              "    .dataframe thead th {\n",
              "        text-align: right;\n",
              "    }\n",
              "</style>\n",
              "<table border=\"1\" class=\"dataframe\">\n",
              "  <thead>\n",
              "    <tr style=\"text-align: right;\">\n",
              "      <th></th>\n",
              "      <th>sentence</th>\n",
              "      <th>sentiment_value</th>\n",
              "    </tr>\n",
              "  </thead>\n",
              "  <tbody>\n",
              "    <tr>\n",
              "      <th>0</th>\n",
              "      <td>It's amazing..... battery last around 10 -12 h...</td>\n",
              "      <td>7</td>\n",
              "    </tr>\n",
              "    <tr>\n",
              "      <th>1</th>\n",
              "      <td>Got it in 50k in Diwali sale.</td>\n",
              "      <td>0</td>\n",
              "    </tr>\n",
              "    <tr>\n",
              "      <th>2</th>\n",
              "      <td>Technically good laptop.Good News.luxury produ...</td>\n",
              "      <td>5</td>\n",
              "    </tr>\n",
              "    <tr>\n",
              "      <th>3</th>\n",
              "      <td>Terrific sense of possession &amp; pride.Bad News.</td>\n",
              "      <td>4</td>\n",
              "    </tr>\n",
              "    <tr>\n",
              "      <th>4</th>\n",
              "      <td>Problems will be there if you are switching fr...</td>\n",
              "      <td>-11</td>\n",
              "    </tr>\n",
              "    <tr>\n",
              "      <th>...</th>\n",
              "      <td>...</td>\n",
              "      <td>...</td>\n",
              "    </tr>\n",
              "    <tr>\n",
              "      <th>182</th>\n",
              "      <td>You can get one of the best movie experiences ...</td>\n",
              "      <td>3</td>\n",
              "    </tr>\n",
              "    <tr>\n",
              "      <th>183</th>\n",
              "      <td>Overall I would it a 4.5/5.</td>\n",
              "      <td>0</td>\n",
              "    </tr>\n",
              "    <tr>\n",
              "      <th>184</th>\n",
              "      <td>I got a great deal on this laptop, which I hav...</td>\n",
              "      <td>3</td>\n",
              "    </tr>\n",
              "    <tr>\n",
              "      <th>185</th>\n",
              "      <td>I got it not only on discount but also was abl...</td>\n",
              "      <td>0</td>\n",
              "    </tr>\n",
              "    <tr>\n",
              "      <th>186</th>\n",
              "      <td>Laptop works really well, it was a good purchase!</td>\n",
              "      <td>3</td>\n",
              "    </tr>\n",
              "  </tbody>\n",
              "</table>\n",
              "<p>187 rows × 2 columns</p>\n",
              "</div>"
            ],
            "text/plain": [
              "                                              sentence  sentiment_value\n",
              "0    It's amazing..... battery last around 10 -12 h...                7\n",
              "1                        Got it in 50k in Diwali sale.                0\n",
              "2    Technically good laptop.Good News.luxury produ...                5\n",
              "3       Terrific sense of possession & pride.Bad News.                4\n",
              "4    Problems will be there if you are switching fr...              -11\n",
              "..                                                 ...              ...\n",
              "182  You can get one of the best movie experiences ...                3\n",
              "183                        Overall I would it a 4.5/5.                0\n",
              "184  I got a great deal on this laptop, which I hav...                3\n",
              "185  I got it not only on discount but also was abl...                0\n",
              "186  Laptop works really well, it was a good purchase!                3\n",
              "\n",
              "[187 rows x 2 columns]"
            ]
          },
          "execution_count": 27,
          "metadata": {},
          "output_type": "execute_result"
        }
      ],
      "source": [
        "sent_df"
      ]
    },
    {
      "cell_type": "code",
      "execution_count": null,
      "metadata": {
        "ExecuteTime": {
          "end_time": "2021-11-07T09:59:27.301421Z",
          "start_time": "2021-11-07T09:59:27.247106Z"
        },
        "id": "xGaJD6KLKHg1",
        "outputId": "4ea2532e-327d-4d77-cd13-c6b347577c96"
      },
      "outputs": [
        {
          "data": {
            "text/plain": [
              "3"
            ]
          },
          "execution_count": 28,
          "metadata": {},
          "output_type": "execute_result"
        }
      ],
      "source": [
        "len(\"i am good\".split())"
      ]
    },
    {
      "cell_type": "code",
      "execution_count": null,
      "metadata": {
        "ExecuteTime": {
          "end_time": "2021-10-10T03:27:15.302216Z",
          "start_time": "2021-10-10T03:27:15.288277Z"
        },
        "id": "cWPenSoBKHg2",
        "outputId": "55229270-cf7b-4dbc-927c-52f73d205e82"
      },
      "outputs": [
        {
          "data": {
            "text/plain": [
              "0    17\n",
              "1     7\n",
              "2    31\n",
              "3     7\n",
              "4    65\n",
              "5     7\n",
              "6    47\n",
              "7    16\n",
              "8    29\n",
              "9    26\n",
              "Name: word_count, dtype: int64"
            ]
          },
          "execution_count": 29,
          "metadata": {},
          "output_type": "execute_result"
        }
      ],
      "source": [
        "# how many words are in the sentence?\n",
        "sent_df['word_count'] = sent_df['sentence'].str.split().apply(len)\n",
        "sent_df['word_count'].head(10)"
      ]
    },
    {
      "cell_type": "code",
      "execution_count": null,
      "metadata": {
        "ExecuteTime": {
          "end_time": "2021-10-10T03:27:15.933540Z",
          "start_time": "2021-10-10T03:27:15.917976Z"
        },
        "id": "WSKIhmnYKHg2",
        "outputId": "945e5065-b016-4ef4-dba5-311fa353046f"
      },
      "outputs": [
        {
          "data": {
            "text/html": [
              "<div>\n",
              "<style scoped>\n",
              "    .dataframe tbody tr th:only-of-type {\n",
              "        vertical-align: middle;\n",
              "    }\n",
              "\n",
              "    .dataframe tbody tr th {\n",
              "        vertical-align: top;\n",
              "    }\n",
              "\n",
              "    .dataframe thead th {\n",
              "        text-align: right;\n",
              "    }\n",
              "</style>\n",
              "<table border=\"1\" class=\"dataframe\">\n",
              "  <thead>\n",
              "    <tr style=\"text-align: right;\">\n",
              "      <th></th>\n",
              "      <th>sentence</th>\n",
              "      <th>sentiment_value</th>\n",
              "      <th>word_count</th>\n",
              "    </tr>\n",
              "  </thead>\n",
              "  <tbody>\n",
              "    <tr>\n",
              "      <th>49</th>\n",
              "      <td>I m stuck with a dead mac after using it for 1...</td>\n",
              "      <td>-3</td>\n",
              "      <td>12</td>\n",
              "    </tr>\n",
              "    <tr>\n",
              "      <th>40</th>\n",
              "      <td>The sound quality was not good .</td>\n",
              "      <td>3</td>\n",
              "      <td>7</td>\n",
              "    </tr>\n",
              "    <tr>\n",
              "      <th>85</th>\n",
              "      <td>I used the laptop very carefully but I think A...</td>\n",
              "      <td>-1</td>\n",
              "      <td>16</td>\n",
              "    </tr>\n",
              "    <tr>\n",
              "      <th>74</th>\n",
              "      <td>Adding to this disappointment is - Apple's ref...</td>\n",
              "      <td>-2</td>\n",
              "      <td>21</td>\n",
              "    </tr>\n",
              "    <tr>\n",
              "      <th>149</th>\n",
              "      <td>...When I spoke to the service center they tol...</td>\n",
              "      <td>-1</td>\n",
              "      <td>27</td>\n",
              "    </tr>\n",
              "    <tr>\n",
              "      <th>44</th>\n",
              "      <td>They replaced the motherboard free of cost as ...</td>\n",
              "      <td>1</td>\n",
              "      <td>12</td>\n",
              "    </tr>\n",
              "    <tr>\n",
              "      <th>142</th>\n",
              "      <td>Except for not so good sound quality while wat...</td>\n",
              "      <td>5</td>\n",
              "      <td>19</td>\n",
              "    </tr>\n",
              "    <tr>\n",
              "      <th>181</th>\n",
              "      <td>Coming to the performance, the speed of this i...</td>\n",
              "      <td>2</td>\n",
              "      <td>27</td>\n",
              "    </tr>\n",
              "    <tr>\n",
              "      <th>43</th>\n",
              "      <td>Took the mac to service centre.</td>\n",
              "      <td>0</td>\n",
              "      <td>6</td>\n",
              "    </tr>\n",
              "    <tr>\n",
              "      <th>180</th>\n",
              "      <td>The design, the user friendliness, the compact...</td>\n",
              "      <td>0</td>\n",
              "      <td>14</td>\n",
              "    </tr>\n",
              "  </tbody>\n",
              "</table>\n",
              "</div>"
            ],
            "text/plain": [
              "                                              sentence  sentiment_value  \\\n",
              "49   I m stuck with a dead mac after using it for 1...               -3   \n",
              "40                    The sound quality was not good .                3   \n",
              "85   I used the laptop very carefully but I think A...               -1   \n",
              "74   Adding to this disappointment is - Apple's ref...               -2   \n",
              "149  ...When I spoke to the service center they tol...               -1   \n",
              "44   They replaced the motherboard free of cost as ...                1   \n",
              "142  Except for not so good sound quality while wat...                5   \n",
              "181  Coming to the performance, the speed of this i...                2   \n",
              "43                     Took the mac to service centre.                0   \n",
              "180  The design, the user friendliness, the compact...                0   \n",
              "\n",
              "     word_count  \n",
              "49           12  \n",
              "40            7  \n",
              "85           16  \n",
              "74           21  \n",
              "149          27  \n",
              "44           12  \n",
              "142          19  \n",
              "181          27  \n",
              "43            6  \n",
              "180          14  "
            ]
          },
          "execution_count": 25,
          "metadata": {},
          "output_type": "execute_result"
        }
      ],
      "source": [
        "sent_df.sort_values(by='sentiment_value').sample(10)"
      ]
    },
    {
      "cell_type": "code",
      "execution_count": null,
      "metadata": {
        "ExecuteTime": {
          "end_time": "2021-10-10T03:27:16.674829Z",
          "start_time": "2021-10-10T03:27:16.645226Z"
        },
        "id": "2KAuY4nUKHg3",
        "outputId": "d74e77f7-15d9-40bf-9d69-f5a01b9fe601"
      },
      "outputs": [
        {
          "data": {
            "text/plain": [
              "count    187.000000\n",
              "mean       0.967914\n",
              "std        3.456183\n",
              "min      -11.000000\n",
              "25%       -0.500000\n",
              "50%        0.000000\n",
              "75%        3.000000\n",
              "max       24.000000\n",
              "Name: sentiment_value, dtype: float64"
            ]
          },
          "execution_count": 26,
          "metadata": {},
          "output_type": "execute_result"
        }
      ],
      "source": [
        "# Sentiment score of the whole review\n",
        "sent_df['sentiment_value'].describe()"
      ]
    },
    {
      "cell_type": "code",
      "execution_count": null,
      "metadata": {
        "ExecuteTime": {
          "end_time": "2021-10-10T03:27:17.667523Z",
          "start_time": "2021-10-10T03:27:17.288679Z"
        },
        "id": "gv07Fka-KHg5",
        "outputId": "9e6147ea-f265-426e-ce47-da57e8b85871"
      },
      "outputs": [
        {
          "data": {
            "text/html": [
              "<div>\n",
              "<style scoped>\n",
              "    .dataframe tbody tr th:only-of-type {\n",
              "        vertical-align: middle;\n",
              "    }\n",
              "\n",
              "    .dataframe tbody tr th {\n",
              "        vertical-align: top;\n",
              "    }\n",
              "\n",
              "    .dataframe thead th {\n",
              "        text-align: right;\n",
              "    }\n",
              "</style>\n",
              "<table border=\"1\" class=\"dataframe\">\n",
              "  <thead>\n",
              "    <tr style=\"text-align: right;\">\n",
              "      <th></th>\n",
              "      <th>sentence</th>\n",
              "      <th>sentiment_value</th>\n",
              "      <th>word_count</th>\n",
              "    </tr>\n",
              "  </thead>\n",
              "  <tbody>\n",
              "    <tr>\n",
              "      <th>1</th>\n",
              "      <td>Got it in 50k in Diwali sale.</td>\n",
              "      <td>0</td>\n",
              "      <td>7</td>\n",
              "    </tr>\n",
              "    <tr>\n",
              "      <th>4</th>\n",
              "      <td>Problems will be there if you are switching fr...</td>\n",
              "      <td>-11</td>\n",
              "      <td>65</td>\n",
              "    </tr>\n",
              "    <tr>\n",
              "      <th>5</th>\n",
              "      <td>), all printers are not compatible (e.g.</td>\n",
              "      <td>0</td>\n",
              "      <td>7</td>\n",
              "    </tr>\n",
              "    <tr>\n",
              "      <th>7</th>\n",
              "      <td>you need to spend extra for an external CD wri...</td>\n",
              "      <td>0</td>\n",
              "      <td>16</td>\n",
              "    </tr>\n",
              "    <tr>\n",
              "      <th>10</th>\n",
              "      <td>Marketing strategy for Indian market, if at al...</td>\n",
              "      <td>-3</td>\n",
              "      <td>15</td>\n",
              "    </tr>\n",
              "  </tbody>\n",
              "</table>\n",
              "</div>"
            ],
            "text/plain": [
              "                                             sentence  sentiment_value  \\\n",
              "1                       Got it in 50k in Diwali sale.                0   \n",
              "4   Problems will be there if you are switching fr...              -11   \n",
              "5            ), all printers are not compatible (e.g.                0   \n",
              "7   you need to spend extra for an external CD wri...                0   \n",
              "10  Marketing strategy for Indian market, if at al...               -3   \n",
              "\n",
              "    word_count  \n",
              "1            7  \n",
              "4           65  \n",
              "5            7  \n",
              "7           16  \n",
              "10          15  "
            ]
          },
          "execution_count": 27,
          "metadata": {},
          "output_type": "execute_result"
        }
      ],
      "source": [
        "# Sentiment score of the whole review\n",
        "sent_df[sent_df['sentiment_value']<=0].head()"
      ]
    },
    {
      "cell_type": "code",
      "execution_count": null,
      "metadata": {
        "ExecuteTime": {
          "end_time": "2021-10-10T03:27:18.184175Z",
          "start_time": "2021-10-10T03:27:18.174168Z"
        },
        "id": "X7HnLud8KHg6",
        "outputId": "180400f1-f517-4a34-fbfe-82c3ce82192f"
      },
      "outputs": [
        {
          "data": {
            "text/html": [
              "<div>\n",
              "<style scoped>\n",
              "    .dataframe tbody tr th:only-of-type {\n",
              "        vertical-align: middle;\n",
              "    }\n",
              "\n",
              "    .dataframe tbody tr th {\n",
              "        vertical-align: top;\n",
              "    }\n",
              "\n",
              "    .dataframe thead th {\n",
              "        text-align: right;\n",
              "    }\n",
              "</style>\n",
              "<table border=\"1\" class=\"dataframe\">\n",
              "  <thead>\n",
              "    <tr style=\"text-align: right;\">\n",
              "      <th></th>\n",
              "      <th>sentence</th>\n",
              "      <th>sentiment_value</th>\n",
              "      <th>word_count</th>\n",
              "    </tr>\n",
              "  </thead>\n",
              "  <tbody>\n",
              "    <tr>\n",
              "      <th>86</th>\n",
              "      <td>All are Gud.. For now.. Apple,apple,apple, tha...</td>\n",
              "      <td>24</td>\n",
              "      <td>184</td>\n",
              "    </tr>\n",
              "  </tbody>\n",
              "</table>\n",
              "</div>"
            ],
            "text/plain": [
              "                                             sentence  sentiment_value  \\\n",
              "86  All are Gud.. For now.. Apple,apple,apple, tha...               24   \n",
              "\n",
              "    word_count  \n",
              "86         184  "
            ]
          },
          "execution_count": 28,
          "metadata": {},
          "output_type": "execute_result"
        }
      ],
      "source": [
        "sent_df[sent_df['sentiment_value']>=20].head()"
      ]
    },
    {
      "cell_type": "code",
      "execution_count": null,
      "metadata": {
        "ExecuteTime": {
          "end_time": "2021-10-10T03:27:18.862588Z",
          "start_time": "2021-10-10T03:27:18.857320Z"
        },
        "id": "Ho6VuAIzKHg6"
      },
      "outputs": [],
      "source": [
        "sent_df['index']=range(0,len(sent_df))"
      ]
    },
    {
      "cell_type": "code",
      "execution_count": null,
      "metadata": {
        "ExecuteTime": {
          "end_time": "2021-10-10T03:27:19.973098Z",
          "start_time": "2021-10-10T03:27:19.565210Z"
        },
        "id": "0lrrjr4uKHg7",
        "outputId": "840d988f-ab92-4da3-81d4-b9dc153d8507"
      },
      "outputs": [
        {
          "name": "stderr",
          "output_type": "stream",
          "text": [
            "/Users/anaconda3/lib/python3.7/site-packages/statsmodels/tools/_testing.py:19: FutureWarning: pandas.util.testing is deprecated. Use the functions in the public API at pandas.testing instead.\n",
            "  import pandas.util.testing as tm\n"
          ]
        },
        {
          "data": {
            "text/plain": [
              "<matplotlib.axes._subplots.AxesSubplot at 0x7f7ef1b528d0>"
            ]
          },
          "execution_count": 30,
          "metadata": {},
          "output_type": "execute_result"
        },
        {
          "data": {
            "image/png": "[encoded data removed]",
            "text/plain": [
              "<Figure size 432x288 with 1 Axes>"
            ]
          },
          "metadata": {
            "needs_background": "light"
          },
          "output_type": "display_data"
        }
      ],
      "source": [
        "import seaborn as sns\n",
        "import matplotlib.pyplot as plt\n",
        "sns.distplot(sent_df['sentiment_value'])"
      ]
    },
    {
      "cell_type": "code",
      "execution_count": null,
      "metadata": {
        "ExecuteTime": {
          "end_time": "2021-10-10T03:27:20.549509Z",
          "start_time": "2021-10-10T03:27:20.217509Z"
        },
        "id": "spcNwTYtKHg7",
        "outputId": "acdd83f4-488b-4ccc-d176-7ca0fa30a303"
      },
      "outputs": [
        {
          "data": {
            "text/plain": [
              "<matplotlib.axes._subplots.AxesSubplot at 0x7f7ef1cb3a90>"
            ]
          },
          "execution_count": 31,
          "metadata": {},
          "output_type": "execute_result"
        },
        {
          "data": {
            "image/png": "[encoded data removed]",
            "text/plain": [
              "<Figure size 1080x720 with 1 Axes>"
            ]
          },
          "metadata": {
            "needs_background": "light"
          },
          "output_type": "display_data"
        }
      ],
      "source": [
        "plt.figure(figsize=(15, 10))\n",
        "sns.lineplot(y='sentiment_value',x='index',data=sent_df)"
      ]
    },
    {
      "cell_type": "code",
      "execution_count": null,
      "metadata": {
        "ExecuteTime": {
          "end_time": "2021-10-10T03:27:21.401218Z",
          "start_time": "2021-10-10T03:27:21.136581Z"
        },
        "id": "WNkDuJ4eKHg8",
        "outputId": "2ffd939e-89ba-42b8-96d1-fffb3055f30b"
      },
      "outputs": [
        {
          "data": {
            "text/plain": [
              "<matplotlib.axes._subplots.AxesSubplot at 0x7f7ef1cae650>"
            ]
          },
          "execution_count": 32,
          "metadata": {},
          "output_type": "execute_result"
        },
        {
          "data": {
            "image/png": "[encoded data removed]",
            "text/plain": [
              "<Figure size 576x576 with 1 Axes>"
            ]
          },
          "metadata": {
            "needs_background": "light"
          },
          "output_type": "display_data"
        }
      ],
      "source": [
        "sent_df.plot.scatter(x='word_count', y='sentiment_value', figsize=(8,8), title='Sentence sentiment value to sentence word count')"
      ]
    },
    {
      "cell_type": "code",
      "execution_count": null,
      "metadata": {
        "id": "hBWCNkS0KHg9"
      },
      "outputs": [],
      "source": [
        ""
      ]
    }
  ],
  "metadata": {
    "kernelspec": {
      "display_name": "Python 3",
      "language": "python",
      "name": "python3"
    },
    "language_info": {
      "codemirror_mode": {
        "name": "ipython",
        "version": 3
      },
      "file_extension": ".py",
      "mimetype": "text/x-python",
      "name": "python",
      "nbconvert_exporter": "python",
      "pygments_lexer": "ipython3",
      "version": "3.8.8"
    },
    "colab": {
      "name": "Named Entity Recognition_Emotion Mining.ipynb",
      "provenance": [],
      "include_colab_link": true
    }
  },
  "nbformat": 4,
  "nbformat_minor": 0
}